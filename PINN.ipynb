{
  "nbformat": 4,
  "nbformat_minor": 0,
  "metadata": {
    "colab": {
      "provenance": [],
      "authorship_tag": "ABX9TyM/g8yPqEP0vzFTXQjGw3bv",
      "include_colab_link": true
    },
    "kernelspec": {
      "name": "python3",
      "display_name": "Python 3"
    },
    "language_info": {
      "name": "python"
    }
  },
  "cells": [
    {
      "cell_type": "markdown",
      "metadata": {
        "id": "view-in-github",
        "colab_type": "text"
      },
      "source": [
        "<a href=\"https://colab.research.google.com/github/sanskriti111-j/ML-Algorithms/blob/main/PINN.ipynb\" target=\"_parent\"><img src=\"https://colab.research.google.com/assets/colab-badge.svg\" alt=\"Open In Colab\"/></a>"
      ]
    },
    {
      "cell_type": "code",
      "execution_count": null,
      "metadata": {
        "id": "ok4hmBXaUA1Z"
      },
      "outputs": [],
      "source": []
    },
    {
      "cell_type": "markdown",
      "source": [
        "Traditional neural networks can overfit noisy or outlier-prone data.\n",
        "\n",
        "Real-world systems often follow known physics laws (e.g., differential equations).\n",
        "\n",
        "PINNs incorporate physics directly into the learning process to improve generalization and reduce overfitting.\n",
        "\n",
        "Example Problem: Ball Thrown Vertically\n",
        "Goal: Predict height h(t) of a ball as a function of time t.\n",
        "\n",
        "Known physics: Ordinary Differential Equation (ODE) from Newton's laws.\n",
        "\n",
        "Challenge: Outliers and noise in experimental data."
      ],
      "metadata": {
        "id": "Nr5CNinEWnj8"
      }
    },
    {
      "cell_type": "markdown",
      "source": [
        "Standard Neural Network Training\n",
        "Input: Time t\n",
        "\n",
        "Output: Height h\n",
        "\n",
        "Loss Function: Mean Squared Error (MSE):\n",
        "\n",
        "MSE=\n",
        "![image.png](data:image/png;base64,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)\n",
        "\n",
        "Problem: Overfits noisy data or outliers.\n",
        "\n",
        "🧪 Why Bring Physics In?\n",
        "Physics (like kinematic equations) give smoother, reliable trends.\n",
        "\n",
        "Helps neural networks avoid fitting noise.\n",
        "\n",
        "⚙️ PINNs: Concept\n",
        "Modify the loss function to include:\n",
        "\n",
        "Data Loss (fit to experimental data)\n",
        "\n",
        "Physics Loss (fit to differential equation)\n",
        "\n",
        "Initial Condition Loss (fit to known starting point)\n",
        "\n",
        "🔧 Modified PINN Loss Function\n",
        "Loss\n",
        "total\n",
        "=\n",
        "𝜆\n",
        "1\n",
        "⋅\n",
        "Data Loss\n",
        "+\n",
        "𝜆\n",
        "2\n",
        "⋅\n",
        "ODE Loss\n",
        "+\n",
        "𝜆\n",
        "3\n",
        "⋅\n",
        "Initial Condition Loss\n",
        "Loss\n",
        "total\n",
        "​\n",
        " =λ\n",
        "1\n",
        "​\n",
        " ⋅Data Loss+λ\n",
        "2\n",
        "​\n",
        " ⋅ODE Loss+λ\n",
        "3\n",
        "​\n",
        " ⋅Initial Condition Loss\n",
        "Where:\n",
        "\n",
        "Data Loss: Traditional MSE between predictions and experimental data.\n",
        "\n",
        "ODE Loss: MSE between predicted derivatives (via auto-differentiation) and ODE-derived values.\n",
        "\n",
        "Initial Condition Loss: Error between prediction and known value at\n",
        "𝑡\n",
        "=\n",
        "0\n",
        "t=0.\n",
        "\n",
        "🔄 How to Calculate ODE Loss?\n",
        "Use automatic differentiation (AD) in frameworks like PyTorch, TensorFlow, or JAX.\n",
        "\n",
        "Compute derivative\n",
        "𝑑\n",
        "ℎ\n",
        "𝑑\n",
        "𝑡\n",
        "dt\n",
        "dh\n",
        "​\n",
        "  from the NN output\n",
        "ℎ\n",
        "(\n",
        "𝑡\n",
        ")\n",
        "h(t) using AD.\n",
        "\n",
        "Compare with known physics:\n",
        "For example,\n",
        "𝑑\n",
        "ℎ\n",
        "𝑑\n",
        "𝑡\n",
        "=\n",
        "𝑣\n",
        "0\n",
        "−\n",
        "𝑔\n",
        "⋅\n",
        "𝑡\n",
        "dt\n",
        "dh\n",
        "​\n",
        " =v\n",
        "0\n",
        "​\n",
        " −g⋅t\n",
        "\n",
        "🏁 Why PINNs Are Useful\n",
        "Embed physical laws in machine learning.\n",
        "\n",
        "Avoid overfitting.\n",
        "\n",
        "Improve model interpretability.\n",
        "\n",
        "Handle noisy/outlier data better.\n",
        "\n"
      ],
      "metadata": {
        "id": "qJhME-Q9WvcJ"
      }
    },
    {
      "cell_type": "code",
      "source": [],
      "metadata": {
        "id": "-qGjEgmQX5LT"
      },
      "execution_count": null,
      "outputs": []
    },
    {
      "cell_type": "code",
      "source": [
        "import torch\n",
        "import torch.nn as nn\n",
        "import numpy as np\n",
        "import matplotlib.pyplot as plt\n"
      ],
      "metadata": {
        "id": "tkVIlOjuX_j5"
      },
      "execution_count": 1,
      "outputs": []
    },
    {
      "cell_type": "code",
      "source": [
        "# Physics parameters\n",
        "g = 9.8        # acceleration due to gravity\n",
        "h0 = 1.0       # initial height\n",
        "v0 = 10.0      # initial velocity\n",
        "\n",
        "# True (analytical) solution h(t) = h0 + v0*t - 0.5*g*t^2\n",
        "def true_solution(t):\n",
        "    return h0 + v0*t - 0.5*g*(t**2)\n",
        "\n",
        "# Generate some time points\n",
        "t_min, t_max = 0.0, 2.0\n",
        "N_data = 10\n",
        "t_data = np.linspace(t_min, t_max, N_data)\n",
        "\n",
        "# Generate synthetic \"experimental\" heights with noise\n",
        "np.random.seed(0)\n",
        "noise_level = 0.7\n",
        "h_data_exact = true_solution(t_data)\n",
        "h_data_noisy = h_data_exact + noise_level*np.random.randn(N_data)\n",
        "\n",
        "# Convert to PyTorch tensors\n",
        "t_data_tensor = torch.tensor(t_data, dtype=torch.float32).view(-1, 1)\n",
        "h_data_tensor = torch.tensor(h_data_noisy, dtype=torch.float32).view(-1, 1)"
      ],
      "metadata": {
        "id": "QvlELULFYBiW"
      },
      "execution_count": 2,
      "outputs": []
    },
    {
      "cell_type": "code",
      "source": [
        "# 2. Define a small feed-forward neural network for h(t)\n",
        "# --------------------------------------------------------\n",
        "class PINN(nn.Module):\n",
        "    def __init__(self, n_hidden=20):\n",
        "        super(PINN, self).__init__()\n",
        "        # A simple MLP with 2 hidden layers\n",
        "        self.net = nn.Sequential(\n",
        "            nn.Linear(1, n_hidden),\n",
        "            nn.Tanh(),\n",
        "            nn.Linear(n_hidden, n_hidden),\n",
        "            nn.Tanh(),\n",
        "            nn.Linear(n_hidden, 1)\n",
        "        )\n",
        "\n",
        "    def forward(self, t):\n",
        "        \"\"\"\n",
        "        Forward pass: input shape (batch_size, 1) -> output shape (batch_size, 1)\n",
        "        \"\"\"\n",
        "        return self.net(t)\n",
        "\n",
        "# Instantiate the model\n",
        "model = PINN(n_hidden=20)"
      ],
      "metadata": {
        "id": "3MghfegMYP_f"
      },
      "execution_count": 3,
      "outputs": []
    },
    {
      "cell_type": "code",
      "source": [
        "# 3. Helper for Automatic Diff\n",
        "# --------------------------------\n",
        "def derivative(y, x):\n",
        "    \"\"\"\n",
        "    Computes dy/dx using PyTorch's autograd.\n",
        "    y and x must be tensors with requires_grad=True for x.\n",
        "    \"\"\"\n",
        "    return torch.autograd.grad(\n",
        "        y, x,\n",
        "        grad_outputs=torch.ones_like(y),\n",
        "        create_graph=True\n",
        "    )[0]"
      ],
      "metadata": {
        "id": "oQvT651nYSLU"
      },
      "execution_count": 4,
      "outputs": []
    },
    {
      "cell_type": "code",
      "source": [
        "# 4. Define the Loss Components (PINN)\n",
        "# ----------------------------------------\n",
        "\n",
        "# We have:\n",
        "#    (1) Data loss (fit noisy data)\n",
        "#    (2) ODE loss: dh/dt = v0 - g * t\n",
        "#    (3) Initial condition loss: h(0) = h0\n",
        "\n",
        "def physics_loss(model, t):\n",
        "    \"\"\"\n",
        "    Compare d(h_pred)/dt with the known expression (v0 - g t).\n",
        "    \"\"\"\n",
        "    # t must have requires_grad = True for autograd to work\n",
        "    t.requires_grad_(True)\n",
        "\n",
        "    h_pred = model(t)\n",
        "    dh_dt_pred = derivative(h_pred, t)\n",
        "\n",
        "    # For each t, physics says dh/dt = v0 - g * t\n",
        "    dh_dt_true = v0 - g * t\n",
        "\n",
        "    loss_ode = torch.mean((dh_dt_pred - dh_dt_true)**2)\n",
        "    return loss_ode\n",
        "\n",
        "def initial_condition_loss(model):\n",
        "    \"\"\"\n",
        "    Enforce h(0) = h0.\n",
        "    \"\"\"\n",
        "    # Evaluate at t=0\n",
        "    t0 = torch.zeros(1, 1, dtype=torch.float32, requires_grad=False)\n",
        "    h0_pred = model(t0)\n",
        "    return (h0_pred - h0).pow(2).mean()\n",
        "\n",
        "def data_loss(model, t_data, h_data):\n",
        "    \"\"\"\n",
        "    MSE between predicted h(t_i) and noisy measurements h_data.\n",
        "    \"\"\"\n",
        "    h_pred = model(t_data)\n",
        "    return torch.mean((h_pred - h_data)**2)"
      ],
      "metadata": {
        "id": "wDLyky_2YgdY"
      },
      "execution_count": 5,
      "outputs": []
    },
    {
      "cell_type": "code",
      "source": [
        "# 5. Training Setup\n",
        "# ---------------------------------------\n",
        "optimizer = torch.optim.Adam(model.parameters(), lr=0.01)\n",
        "\n",
        "# Hyperparameters for weighting the loss terms\n",
        "lambda_data = 2.0\n",
        "lambda_ode  = 2.0\n",
        "lambda_ic   = 2.0\n",
        "\n",
        "# For logging\n",
        "num_epochs = 4000\n",
        "print_every = 200"
      ],
      "metadata": {
        "id": "UkzLPA6CYmC9"
      },
      "execution_count": 6,
      "outputs": []
    },
    {
      "cell_type": "code",
      "source": [
        "# 6. Training Loop\n",
        "# ---------------------------------------\n",
        "model.train()\n",
        "for epoch in range(num_epochs):\n",
        "    optimizer.zero_grad()\n",
        "\n",
        "    # Compute losses\n",
        "    l_data = data_loss(model, t_data_tensor, h_data_tensor)\n",
        "    l_ode  = physics_loss(model, t_data_tensor)\n",
        "    l_ic   = initial_condition_loss(model)\n",
        "\n",
        "    # Combined loss\n",
        "    loss = lambda_data * l_data + lambda_ode * l_ode + lambda_ic * l_ic\n",
        "\n",
        "    # Backprop\n",
        "    loss.backward()\n",
        "    optimizer.step()\n",
        "\n",
        "    # Print progress\n",
        "    if (epoch+1) % print_every == 0:\n",
        "        print(f\"Epoch {epoch+1}/{num_epochs}, \"\n",
        "              f\"Total Loss = {loss.item():.6f}, \"\n",
        "              f\"Data Loss = {l_data.item():.6f}, \"\n",
        "              f\"ODE Loss = {l_ode.item():.6f}, \"\n",
        "              f\"IC Loss = {l_ic.item():.6f}\")"
      ],
      "metadata": {
        "colab": {
          "base_uri": "https://localhost:8080/"
        },
        "id": "963L-obyYpw-",
        "outputId": "d3f41e6a-f498-497d-ce9c-6c1afb2a4df6"
      },
      "execution_count": 7,
      "outputs": [
        {
          "output_type": "stream",
          "name": "stdout",
          "text": [
            "Epoch 200/4000, Total Loss = 43.753738, Data Loss = 3.082193, ODE Loss = 18.794376, IC Loss = 0.000300\n",
            "Epoch 400/4000, Total Loss = 4.933971, Data Loss = 0.795355, ODE Loss = 1.655020, IC Loss = 0.016611\n",
            "Epoch 600/4000, Total Loss = 1.423150, Data Loss = 0.507430, ODE Loss = 0.180913, IC Loss = 0.023231\n",
            "Epoch 800/4000, Total Loss = 1.023017, Data Loss = 0.474827, ODE Loss = 0.021871, IC Loss = 0.014811\n",
            "Epoch 1000/4000, Total Loss = 1.011842, Data Loss = 0.468673, ODE Loss = 0.024111, IC Loss = 0.013137\n",
            "Epoch 1200/4000, Total Loss = 1.006345, Data Loss = 0.464845, ODE Loss = 0.025628, IC Loss = 0.012700\n",
            "Epoch 1400/4000, Total Loss = 1.004335, Data Loss = 0.464138, ODE Loss = 0.025413, IC Loss = 0.012617\n",
            "Epoch 1600/4000, Total Loss = 1.002881, Data Loss = 0.462040, ODE Loss = 0.026794, IC Loss = 0.012607\n",
            "Epoch 1800/4000, Total Loss = 1.002048, Data Loss = 0.461210, ODE Loss = 0.027232, IC Loss = 0.012582\n",
            "Epoch 2000/4000, Total Loss = 1.001371, Data Loss = 0.460673, ODE Loss = 0.027448, IC Loss = 0.012564\n",
            "Epoch 2200/4000, Total Loss = 1.000729, Data Loss = 0.460200, ODE Loss = 0.027612, IC Loss = 0.012552\n",
            "Epoch 2400/4000, Total Loss = 1.000893, Data Loss = 0.461616, ODE Loss = 0.026301, IC Loss = 0.012530\n",
            "Epoch 2600/4000, Total Loss = 0.999205, Data Loss = 0.459171, ODE Loss = 0.027886, IC Loss = 0.012546\n",
            "Epoch 2800/4000, Total Loss = 0.997908, Data Loss = 0.458593, ODE Loss = 0.027824, IC Loss = 0.012537\n",
            "Epoch 3000/4000, Total Loss = 0.995097, Data Loss = 0.457540, ODE Loss = 0.027494, IC Loss = 0.012514\n",
            "Epoch 3200/4000, Total Loss = 0.985625, Data Loss = 0.455215, ODE Loss = 0.025210, IC Loss = 0.012387\n",
            "Epoch 3400/4000, Total Loss = 0.950338, Data Loss = 0.439354, ODE Loss = 0.023379, IC Loss = 0.012437\n",
            "Epoch 3600/4000, Total Loss = 0.900261, Data Loss = 0.415460, ODE Loss = 0.022892, IC Loss = 0.011778\n",
            "Epoch 3800/4000, Total Loss = 0.861519, Data Loss = 0.399171, ODE Loss = 0.019215, IC Loss = 0.012374\n",
            "Epoch 4000/4000, Total Loss = 0.780955, Data Loss = 0.341460, ODE Loss = 0.033235, IC Loss = 0.015783\n"
          ]
        }
      ]
    },
    {
      "cell_type": "code",
      "source": [
        "# 7. Evaluate the Trained Model\n",
        "# ---------------------------------------\n",
        "model.eval()\n",
        "t_plot = np.linspace(t_min, t_max, 100).reshape(-1, 1).astype(np.float32)\n",
        "t_plot_tensor = torch.tensor(t_plot, requires_grad=True)\n",
        "h_pred_plot = model(t_plot_tensor).detach().numpy()\n",
        "\n",
        "# True solution (for comparison)\n",
        "h_true_plot = true_solution(t_plot)\n",
        "\n",
        "# Plot results\n",
        "plt.figure(figsize=(8, 5))\n",
        "plt.scatter(t_data, h_data_noisy, color='red', label='Noisy Data')\n",
        "plt.plot(t_plot, h_true_plot, 'k--', label='Exact Solution')\n",
        "plt.plot(t_plot, h_pred_plot, 'b', label='PINN Prediction')\n",
        "plt.xlabel('t')\n",
        "plt.ylabel('h(t)')\n",
        "plt.legend()\n",
        "plt.title('PINN for Ball Trajectory')\n",
        "plt.grid(True)\n",
        "plt.show()"
      ],
      "metadata": {
        "colab": {
          "base_uri": "https://localhost:8080/",
          "height": 487
        },
        "id": "fRe4tVkhYwWG",
        "outputId": "0a168d2e-9531-4f6b-920c-294e0d12d7e2"
      },
      "execution_count": 8,
      "outputs": [
        {
          "output_type": "display_data",
          "data": {
            "text/plain": [
              "<Figure size 800x500 with 1 Axes>"
            ],
            "image/png": "[encoded data removed]"
          },
          "metadata": {}
        }
      ]
    }
  ]
}