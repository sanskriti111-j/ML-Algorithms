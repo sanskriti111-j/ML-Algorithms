{
  "nbformat": 4,
  "nbformat_minor": 0,
  "metadata": {
    "colab": {
      "provenance": [],
      "authorship_tag": "ABX9TyOtqQz3I2NIJfyUxug8I3HA",
      "include_colab_link": true
    },
    "kernelspec": {
      "name": "python3",
      "display_name": "Python 3"
    },
    "language_info": {
      "name": "python"
    }
  },
  "cells": [
    {
      "cell_type": "markdown",
      "metadata": {
        "id": "view-in-github",
        "colab_type": "text"
      },
      "source": [
        "<a href=\"https://colab.research.google.com/github/sanskriti111-j/ML-Algorithms/blob/main/PCA.ipynb\" target=\"_parent\"><img src=\"https://colab.research.google.com/assets/colab-badge.svg\" alt=\"Open In Colab\"/></a>"
      ]
    },
    {
      "cell_type": "code",
      "execution_count": null,
      "metadata": {
        "id": "lS24Y3VK-z2Q"
      },
      "outputs": [],
      "source": []
    },
    {
      "cell_type": "markdown",
      "source": [
        "# Principle Component Analysis"
      ],
      "metadata": {
        "id": "biX2528S-01w"
      }
    },
    {
      "cell_type": "markdown",
      "source": [
        "out of various columns which choose only those columns whose impact on our result is maximum. For this we choose that column in which variance is maximum . this is because variance shows the spread of data."
      ],
      "metadata": {
        "id": "MsFKdmlN-5A-"
      }
    },
    {
      "cell_type": "markdown",
      "source": [
        "Principal Component Analysis (PCA) is a dimensionality reduction technique used in machine learning and statistics. It transforms a dataset with potentially many correlated variables into a smaller set of uncorrelated variables called principal components. These components are ordered by the amount of variance they explain in the original data, allowing for the selection of the most important components while discarding less significant ones."
      ],
      "metadata": {
        "id": "bjXFiYIkAgF3"
      }
    },
    {
      "cell_type": "markdown",
      "source": [
        "Core Idea:\n",
        "PCA aims to find the directions (principal components) in the data that capture the most variance.\n",
        "By projecting data onto these principal components, it reduces the dimensionality of the data while preserving the most important information.\n",
        "High variance indicates more information, while low variance suggests redundancy or noise"
      ],
      "metadata": {
        "id": "H1fr8UDQAhFf"
      }
    },
    {
      "cell_type": "markdown",
      "source": [
        "How it works:\n",
        "1. Data Standardization:\n",
        "The data is often standardized (centered and scaled) to ensure all variables contribute equally to the analysis.\n",
        "2. Covariance Matrix:\n",
        "A covariance matrix is calculated to understand the relationships between variables.\n",
        "3. Eigenvalues and Eigenvectors:\n",
        "The eigenvalues and eigenvectors of the covariance matrix are computed. Eigenvectors represent the principal components, and eigenvalues indicate the amount of variance explained by each component.\n",
        "4. Dimensionality Reduction:\n",
        "The eigenvectors corresponding to the largest eigenvalues are selected as the principal components. The number of components to keep depends on the desired level of dimensionality reduction and the amount of variance that needs to be retained.\n",
        "5. Transformation:\n",
        "The original data is projected onto the selected principal components, resulting in a lower-dimensional representation"
      ],
      "metadata": {
        "id": "wJtuIEuJAkrf"
      }
    },
    {
      "cell_type": "markdown",
      "source": [
        "Why PCA uses variance:\n",
        "It’s easier for the computer to work with\n",
        "In PCA, we use something called a covariance matrix, which is based on variance. Using variance directly keeps the math simple and clean.\n",
        "\n",
        "We care about finding directions with the biggest spread\n",
        "PCA wants to find directions (called principal components) where the data is most spread out — and that’s exactly what variance measures.\n",
        "\n",
        "Variance adds up nicely\n",
        "If you look at multiple directions, the total variance is just the sum of variances in each direction. That makes it easier to track how much information we’re keeping.\n",
        "\n",
        "Eigenvalues = Variance in PCA\n",
        "When PCA calculates eigenvalues (which tell us how important each direction is), they actually represent variance — not standard deviation.\n",
        "\n"
      ],
      "metadata": {
        "id": "cMW4CtldHfQ_"
      }
    },
    {
      "cell_type": "code",
      "source": [],
      "metadata": {
        "id": "csUuv8luApj9"
      },
      "execution_count": null,
      "outputs": []
    },
    {
      "cell_type": "markdown",
      "source": [
        "covariance tell us about how our axis  changes with each other"
      ],
      "metadata": {
        "id": "Wb5zYdmdH4QI"
      }
    },
    {
      "cell_type": "markdown",
      "source": [
        "Eigenvector: A direction in your data that doesn’t change during a transformation (e.g., rotation, scaling).\n",
        "\n",
        "Eigenvalue: A number that tells you how important or strong that direction is — i.e., how much the data varies in that direction.\n",
        "\n"
      ],
      "metadata": {
        "id": "nvJry8bUMOPA"
      }
    },
    {
      "cell_type": "markdown",
      "source": [
        "n PCA (Principal Component Analysis)\n",
        "We try to find the most important directions in which the data spreads.\n",
        "\n",
        "PCA calculates the eigenvectors of the covariance matrix of the data.\n",
        "\n",
        "The eigenvector with the largest eigenvalue is the direction where the data varies the most.\n",
        "\n",
        "👉 PCA keeps the top eigenvectors (principal components) with the largest eigenvalues. These explain the most about the data.\n",
        "\n",
        "2. Dimensionality Reduction\n",
        "Suppose you have 100 features, but only 2-3 directions (eigenvectors) capture 95% of the variance (eigenvalues).\n",
        "\n",
        "You can project your data onto these few directions and throw away the rest — less data, same insight.\n",
        "\n"
      ],
      "metadata": {
        "id": "onEfHgvTMPYh"
      }
    },
    {
      "cell_type": "markdown",
      "source": [
        "Absolutely! Here's a concise and well-structured **revision note** on **Eigen Decomposition of the Covariance Matrix**, perfect for **quick review**:\n",
        "\n",
        "---\n",
        "\n",
        "# 📘 **Eigen Decomposition of Covariance Matrix – Revision Notes**\n",
        "\n",
        "---\n",
        "\n",
        "## ✅ **What is Covariance Matrix?**\n",
        "\n",
        "* Captures relationships between features in a dataset.\n",
        "* Square matrix with:\n",
        "\n",
        "  * **Diagonal** = Variance of each feature\n",
        "  * **Off-diagonal** = Covariance between features\n",
        "\n",
        "**Formula (for mean-centered data):**\n",
        "\n",
        "$$\n",
        "\\Sigma = \\frac{1}{n} X^\\top X\n",
        "$$\n",
        "\n",
        "---\n",
        "\n",
        "## ✅ **What is Eigen Decomposition?**\n",
        "\n",
        "* A way to **break down** a matrix into:\n",
        "\n",
        "  $$\n",
        "  \\Sigma = V \\Lambda V^{-1}\n",
        "  $$\n",
        "\n",
        "  or (for symmetric matrices like covariance):\n",
        "\n",
        "  $$\n",
        "  \\Sigma = V \\Lambda V^\\top\n",
        "  $$\n",
        "\n",
        "Where:\n",
        "\n",
        "* **V** = Matrix of eigenvectors (principal directions)\n",
        "* **Λ** = Diagonal matrix of eigenvalues (variance in those directions)\n",
        "\n",
        "---\n",
        "\n",
        "## ✅ **Why in PCA?**\n",
        "\n",
        "* PCA wants to find **directions of maximum variance** in the data.\n",
        "* These directions are **eigenvectors**.\n",
        "* The **amount of variance** along each direction = **eigenvalue**.\n",
        "\n",
        "---\n",
        "\n",
        "## 🧠 **PCA Step-by-Step using Eigen Decomposition:**\n",
        "\n",
        "1. **Standardize** the data (zero mean, unit variance)\n",
        "2. Compute **covariance matrix** (Σ)\n",
        "3. Do **eigen decomposition**:\n",
        "\n",
        "   $$\n",
        "   \\Sigma = V \\Lambda V^\\top\n",
        "   $$\n",
        "4. **Sort** eigenvectors by eigenvalues (largest to smallest)\n",
        "5. **Select top-k** eigenvectors → principal components\n",
        "6. **Project data** onto these components for dimensionality reduction\n",
        "\n",
        "---\n",
        "\n",
        "## 🧾 **Key Concepts Recap:**\n",
        "\n",
        "| Term                | Meaning                                   |\n",
        "| ------------------- | ----------------------------------------- |\n",
        "| Covariance Matrix   | Measures how features vary together       |\n",
        "| Eigenvector         | A special direction in feature space      |\n",
        "| Eigenvalue          | Importance (variance) of that direction   |\n",
        "| PCA                 | Uses top eigenvectors to represent data   |\n",
        "| Eigen Decomposition | Breaks matrix into directions + strengths |\n",
        "\n",
        "---\n",
        "\n",
        "## 🧩 **Analogy:**\n",
        "\n",
        "> Like shining a flashlight on a 3D object.\n",
        "> **Eigenvectors** = Best directions to shine from\n",
        "> **Eigenvalues** = How much of the object’s detail you’ll see in that direction\n",
        "\n",
        "---\n",
        "\n",
        "Let me know if you'd like a PDF version of these notes or a Python code example to match this theory!\n"
      ],
      "metadata": {
        "id": "Ht-OCDNhMb2Y"
      }
    },
    {
      "cell_type": "markdown",
      "source": [
        "the largest eigenveector always points out into the direction of largest variance of data"
      ],
      "metadata": {
        "id": "OSL3SvYUNOmJ"
      }
    },
    {
      "cell_type": "code",
      "source": [],
      "metadata": {
        "id": "ptoU-MJWOyEW"
      },
      "execution_count": null,
      "outputs": []
    },
    {
      "cell_type": "markdown",
      "source": [
        "the eigenvector whose eigen value is maximum becomes principle component 1"
      ],
      "metadata": {
        "id": "d_t8U0kbOyWm"
      }
    },
    {
      "cell_type": "markdown",
      "source": [
        "Seps of pca:\n",
        "1 mean centring 2. covariance matrix\n",
        "3. find eigenvector and eigen values"
      ],
      "metadata": {
        "id": "QjabY63IPExO"
      }
    },
    {
      "cell_type": "code",
      "source": [
        "import numpy as np\n",
        "import pandas as pd"
      ],
      "metadata": {
        "id": "jMODmVxfIQM_"
      },
      "execution_count": 1,
      "outputs": []
    },
    {
      "cell_type": "code",
      "source": [
        "df=pd.read_csv('/content/ai_dev_productivity.csv')"
      ],
      "metadata": {
        "id": "WurZsObEIf5v"
      },
      "execution_count": 2,
      "outputs": []
    },
    {
      "cell_type": "code",
      "source": [
        "df.head()"
      ],
      "metadata": {
        "colab": {
          "base_uri": "https://localhost:8080/",
          "height": 206
        },
        "id": "cbNddVH1IkLp",
        "outputId": "14407abc-f792-475c-f117-88ed8def7548"
      },
      "execution_count": 4,
      "outputs": [
        {
          "output_type": "execute_result",
          "data": {
            "text/plain": [
              "   hours_coding  coffee_intake_mg  distractions  sleep_hours  commits  \\\n",
              "0          5.99               600             1          5.8        2   \n",
              "1          4.72               568             2          6.9        5   \n",
              "2          6.30               560             1          8.9        2   \n",
              "3          8.05               600             7          6.3        9   \n",
              "4          4.53               421             6          6.9        4   \n",
              "\n",
              "   bugs_reported  ai_usage_hours  cognitive_load  task_success  \n",
              "0              1            0.71             5.4             1  \n",
              "1              3            1.75             4.7             1  \n",
              "2              0            2.27             2.2             1  \n",
              "3              5            1.40             5.9             0  \n",
              "4              0            1.26             6.3             1  "
            ],
            "text/html": [
              "\n",
              "  <div id=\"df-e7ff9a82-7e06-46d4-9887-bff94368fbdb\" class=\"colab-df-container\">\n",
              "    <div>\n",
              "<style scoped>\n",
              "    .dataframe tbody tr th:only-of-type {\n",
              "        vertical-align: middle;\n",
              "    }\n",
              "\n",
              "    .dataframe tbody tr th {\n",
              "        vertical-align: top;\n",
              "    }\n",
              "\n",
              "    .dataframe thead th {\n",
              "        text-align: right;\n",
              "    }\n",
              "</style>\n",
              "<table border=\"1\" class=\"dataframe\">\n",
              "  <thead>\n",
              "    <tr style=\"text-align: right;\">\n",
              "      <th></th>\n",
              "      <th>hours_coding</th>\n",
              "      <th>coffee_intake_mg</th>\n",
              "      <th>distractions</th>\n",
              "      <th>sleep_hours</th>\n",
              "      <th>commits</th>\n",
              "      <th>bugs_reported</th>\n",
              "      <th>ai_usage_hours</th>\n",
              "      <th>cognitive_load</th>\n",
              "      <th>task_success</th>\n",
              "    </tr>\n",
              "  </thead>\n",
              "  <tbody>\n",
              "    <tr>\n",
              "      <th>0</th>\n",
              "      <td>5.99</td>\n",
              "      <td>600</td>\n",
              "      <td>1</td>\n",
              "      <td>5.8</td>\n",
              "      <td>2</td>\n",
              "      <td>1</td>\n",
              "      <td>0.71</td>\n",
              "      <td>5.4</td>\n",
              "      <td>1</td>\n",
              "    </tr>\n",
              "    <tr>\n",
              "      <th>1</th>\n",
              "      <td>4.72</td>\n",
              "      <td>568</td>\n",
              "      <td>2</td>\n",
              "      <td>6.9</td>\n",
              "      <td>5</td>\n",
              "      <td>3</td>\n",
              "      <td>1.75</td>\n",
              "      <td>4.7</td>\n",
              "      <td>1</td>\n",
              "    </tr>\n",
              "    <tr>\n",
              "      <th>2</th>\n",
              "      <td>6.30</td>\n",
              "      <td>560</td>\n",
              "      <td>1</td>\n",
              "      <td>8.9</td>\n",
              "      <td>2</td>\n",
              "      <td>0</td>\n",
              "      <td>2.27</td>\n",
              "      <td>2.2</td>\n",
              "      <td>1</td>\n",
              "    </tr>\n",
              "    <tr>\n",
              "      <th>3</th>\n",
              "      <td>8.05</td>\n",
              "      <td>600</td>\n",
              "      <td>7</td>\n",
              "      <td>6.3</td>\n",
              "      <td>9</td>\n",
              "      <td>5</td>\n",
              "      <td>1.40</td>\n",
              "      <td>5.9</td>\n",
              "      <td>0</td>\n",
              "    </tr>\n",
              "    <tr>\n",
              "      <th>4</th>\n",
              "      <td>4.53</td>\n",
              "      <td>421</td>\n",
              "      <td>6</td>\n",
              "      <td>6.9</td>\n",
              "      <td>4</td>\n",
              "      <td>0</td>\n",
              "      <td>1.26</td>\n",
              "      <td>6.3</td>\n",
              "      <td>1</td>\n",
              "    </tr>\n",
              "  </tbody>\n",
              "</table>\n",
              "</div>\n",
              "    <div class=\"colab-df-buttons\">\n",
              "\n",
              "  <div class=\"colab-df-container\">\n",
              "    <button class=\"colab-df-convert\" onclick=\"convertToInteractive('df-e7ff9a82-7e06-46d4-9887-bff94368fbdb')\"\n",
              "            title=\"Convert this dataframe to an interactive table.\"\n",
              "            style=\"display:none;\">\n",
              "\n",
              "  <svg xmlns=\"http://www.w3.org/2000/svg\" height=\"24px\" viewBox=\"0 -960 960 960\">\n",
              "    <path d=\"M120-120v-720h720v720H120Zm60-500h600v-160H180v160Zm220 220h160v-160H400v160Zm0 220h160v-160H400v160ZM180-400h160v-160H180v160Zm440 0h160v-160H620v160ZM180-180h160v-160H180v160Zm440 0h160v-160H620v160Z\"/>\n",
              "  </svg>\n",
              "    </button>\n",
              "\n",
              "  <style>\n",
              "    .colab-df-container {\n",
              "      display:flex;\n",
              "      gap: 12px;\n",
              "    }\n",
              "\n",
              "    .colab-df-convert {\n",
              "      background-color: #E8F0FE;\n",
              "      border: none;\n",
              "      border-radius: 50%;\n",
              "      cursor: pointer;\n",
              "      display: none;\n",
              "      fill: #1967D2;\n",
              "      height: 32px;\n",
              "      padding: 0 0 0 0;\n",
              "      width: 32px;\n",
              "    }\n",
              "\n",
              "    .colab-df-convert:hover {\n",
              "      background-color: #E2EBFA;\n",
              "      box-shadow: 0px 1px 2px rgba(60, 64, 67, 0.3), 0px 1px 3px 1px rgba(60, 64, 67, 0.15);\n",
              "      fill: #174EA6;\n",
              "    }\n",
              "\n",
              "    .colab-df-buttons div {\n",
              "      margin-bottom: 4px;\n",
              "    }\n",
              "\n",
              "    [theme=dark] .colab-df-convert {\n",
              "      background-color: #3B4455;\n",
              "      fill: #D2E3FC;\n",
              "    }\n",
              "\n",
              "    [theme=dark] .colab-df-convert:hover {\n",
              "      background-color: #434B5C;\n",
              "      box-shadow: 0px 1px 3px 1px rgba(0, 0, 0, 0.15);\n",
              "      filter: drop-shadow(0px 1px 2px rgba(0, 0, 0, 0.3));\n",
              "      fill: #FFFFFF;\n",
              "    }\n",
              "  </style>\n",
              "\n",
              "    <script>\n",
              "      const buttonEl =\n",
              "        document.querySelector('#df-e7ff9a82-7e06-46d4-9887-bff94368fbdb button.colab-df-convert');\n",
              "      buttonEl.style.display =\n",
              "        google.colab.kernel.accessAllowed ? 'block' : 'none';\n",
              "\n",
              "      async function convertToInteractive(key) {\n",
              "        const element = document.querySelector('#df-e7ff9a82-7e06-46d4-9887-bff94368fbdb');\n",
              "        const dataTable =\n",
              "          await google.colab.kernel.invokeFunction('convertToInteractive',\n",
              "                                                    [key], {});\n",
              "        if (!dataTable) return;\n",
              "\n",
              "        const docLinkHtml = 'Like what you see? Visit the ' +\n",
              "          '<a target=\"_blank\" href=https://colab.research.google.com/notebooks/data_table.ipynb>data table notebook</a>'\n",
              "          + ' to learn more about interactive tables.';\n",
              "        element.innerHTML = '';\n",
              "        dataTable['output_type'] = 'display_data';\n",
              "        await google.colab.output.renderOutput(dataTable, element);\n",
              "        const docLink = document.createElement('div');\n",
              "        docLink.innerHTML = docLinkHtml;\n",
              "        element.appendChild(docLink);\n",
              "      }\n",
              "    </script>\n",
              "  </div>\n",
              "\n",
              "\n",
              "    <div id=\"df-5b0ebb2a-c08f-47e2-bce1-4cf975fba7ca\">\n",
              "      <button class=\"colab-df-quickchart\" onclick=\"quickchart('df-5b0ebb2a-c08f-47e2-bce1-4cf975fba7ca')\"\n",
              "                title=\"Suggest charts\"\n",
              "                style=\"display:none;\">\n",
              "\n",
              "<svg xmlns=\"http://www.w3.org/2000/svg\" height=\"24px\"viewBox=\"0 0 24 24\"\n",
              "     width=\"24px\">\n",
              "    <g>\n",
              "        <path d=\"M19 3H5c-1.1 0-2 .9-2 2v14c0 1.1.9 2 2 2h14c1.1 0 2-.9 2-2V5c0-1.1-.9-2-2-2zM9 17H7v-7h2v7zm4 0h-2V7h2v10zm4 0h-2v-4h2v4z\"/>\n",
              "    </g>\n",
              "</svg>\n",
              "      </button>\n",
              "\n",
              "<style>\n",
              "  .colab-df-quickchart {\n",
              "      --bg-color: #E8F0FE;\n",
              "      --fill-color: #1967D2;\n",
              "      --hover-bg-color: #E2EBFA;\n",
              "      --hover-fill-color: #174EA6;\n",
              "      --disabled-fill-color: #AAA;\n",
              "      --disabled-bg-color: #DDD;\n",
              "  }\n",
              "\n",
              "  [theme=dark] .colab-df-quickchart {\n",
              "      --bg-color: #3B4455;\n",
              "      --fill-color: #D2E3FC;\n",
              "      --hover-bg-color: #434B5C;\n",
              "      --hover-fill-color: #FFFFFF;\n",
              "      --disabled-bg-color: #3B4455;\n",
              "      --disabled-fill-color: #666;\n",
              "  }\n",
              "\n",
              "  .colab-df-quickchart {\n",
              "    background-color: var(--bg-color);\n",
              "    border: none;\n",
              "    border-radius: 50%;\n",
              "    cursor: pointer;\n",
              "    display: none;\n",
              "    fill: var(--fill-color);\n",
              "    height: 32px;\n",
              "    padding: 0;\n",
              "    width: 32px;\n",
              "  }\n",
              "\n",
              "  .colab-df-quickchart:hover {\n",
              "    background-color: var(--hover-bg-color);\n",
              "    box-shadow: 0 1px 2px rgba(60, 64, 67, 0.3), 0 1px 3px 1px rgba(60, 64, 67, 0.15);\n",
              "    fill: var(--button-hover-fill-color);\n",
              "  }\n",
              "\n",
              "  .colab-df-quickchart-complete:disabled,\n",
              "  .colab-df-quickchart-complete:disabled:hover {\n",
              "    background-color: var(--disabled-bg-color);\n",
              "    fill: var(--disabled-fill-color);\n",
              "    box-shadow: none;\n",
              "  }\n",
              "\n",
              "  .colab-df-spinner {\n",
              "    border: 2px solid var(--fill-color);\n",
              "    border-color: transparent;\n",
              "    border-bottom-color: var(--fill-color);\n",
              "    animation:\n",
              "      spin 1s steps(1) infinite;\n",
              "  }\n",
              "\n",
              "  @keyframes spin {\n",
              "    0% {\n",
              "      border-color: transparent;\n",
              "      border-bottom-color: var(--fill-color);\n",
              "      border-left-color: var(--fill-color);\n",
              "    }\n",
              "    20% {\n",
              "      border-color: transparent;\n",
              "      border-left-color: var(--fill-color);\n",
              "      border-top-color: var(--fill-color);\n",
              "    }\n",
              "    30% {\n",
              "      border-color: transparent;\n",
              "      border-left-color: var(--fill-color);\n",
              "      border-top-color: var(--fill-color);\n",
              "      border-right-color: var(--fill-color);\n",
              "    }\n",
              "    40% {\n",
              "      border-color: transparent;\n",
              "      border-right-color: var(--fill-color);\n",
              "      border-top-color: var(--fill-color);\n",
              "    }\n",
              "    60% {\n",
              "      border-color: transparent;\n",
              "      border-right-color: var(--fill-color);\n",
              "    }\n",
              "    80% {\n",
              "      border-color: transparent;\n",
              "      border-right-color: var(--fill-color);\n",
              "      border-bottom-color: var(--fill-color);\n",
              "    }\n",
              "    90% {\n",
              "      border-color: transparent;\n",
              "      border-bottom-color: var(--fill-color);\n",
              "    }\n",
              "  }\n",
              "</style>\n",
              "\n",
              "      <script>\n",
              "        async function quickchart(key) {\n",
              "          const quickchartButtonEl =\n",
              "            document.querySelector('#' + key + ' button');\n",
              "          quickchartButtonEl.disabled = true;  // To prevent multiple clicks.\n",
              "          quickchartButtonEl.classList.add('colab-df-spinner');\n",
              "          try {\n",
              "            const charts = await google.colab.kernel.invokeFunction(\n",
              "                'suggestCharts', [key], {});\n",
              "          } catch (error) {\n",
              "            console.error('Error during call to suggestCharts:', error);\n",
              "          }\n",
              "          quickchartButtonEl.classList.remove('colab-df-spinner');\n",
              "          quickchartButtonEl.classList.add('colab-df-quickchart-complete');\n",
              "        }\n",
              "        (() => {\n",
              "          let quickchartButtonEl =\n",
              "            document.querySelector('#df-5b0ebb2a-c08f-47e2-bce1-4cf975fba7ca button');\n",
              "          quickchartButtonEl.style.display =\n",
              "            google.colab.kernel.accessAllowed ? 'block' : 'none';\n",
              "        })();\n",
              "      </script>\n",
              "    </div>\n",
              "\n",
              "    </div>\n",
              "  </div>\n"
            ],
            "application/vnd.google.colaboratory.intrinsic+json": {
              "type": "dataframe",
              "variable_name": "df",
              "summary": "{\n  \"name\": \"df\",\n  \"rows\": 500,\n  \"fields\": [\n    {\n      \"column\": \"hours_coding\",\n      \"properties\": {\n        \"dtype\": \"number\",\n        \"std\": 1.9472530984077328,\n        \"min\": 0.0,\n        \"max\": 12.0,\n        \"num_unique_values\": 353,\n        \"samples\": [\n          3.15,\n          3.56,\n          2.48\n        ],\n        \"semantic_type\": \"\",\n        \"description\": \"\"\n      }\n    },\n    {\n      \"column\": \"coffee_intake_mg\",\n      \"properties\": {\n        \"dtype\": \"number\",\n        \"std\": 142,\n        \"min\": 6,\n        \"max\": 600,\n        \"num_unique_values\": 244,\n        \"samples\": [\n          396,\n          567,\n          283\n        ],\n        \"semantic_type\": \"\",\n        \"description\": \"\"\n      }\n    },\n    {\n      \"column\": \"distractions\",\n      \"properties\": {\n        \"dtype\": \"number\",\n        \"std\": 1,\n        \"min\": 0,\n        \"max\": 8,\n        \"num_unique_values\": 9,\n        \"samples\": [\n          3,\n          2,\n          5\n        ],\n        \"semantic_type\": \"\",\n        \"description\": \"\"\n      }\n    },\n    {\n      \"column\": \"sleep_hours\",\n      \"properties\": {\n        \"dtype\": \"number\",\n        \"std\": 1.4559649817410159,\n        \"min\": 3.0,\n        \"max\": 10.0,\n        \"num_unique_values\": 67,\n        \"samples\": [\n          4.9,\n          8.0,\n          7.1\n        ],\n        \"semantic_type\": \"\",\n        \"description\": \"\"\n      }\n    },\n    {\n      \"column\": \"commits\",\n      \"properties\": {\n        \"dtype\": \"number\",\n        \"std\": 2,\n        \"min\": 0,\n        \"max\": 13,\n        \"num_unique_values\": 14,\n        \"samples\": [\n          8,\n          10,\n          2\n        ],\n        \"semantic_type\": \"\",\n        \"description\": \"\"\n      }\n    },\n    {\n      \"column\": \"bugs_reported\",\n      \"properties\": {\n        \"dtype\": \"number\",\n        \"std\": 1,\n        \"min\": 0,\n        \"max\": 5,\n        \"num_unique_values\": 6,\n        \"samples\": [\n          1,\n          3,\n          4\n        ],\n        \"semantic_type\": \"\",\n        \"description\": \"\"\n      }\n    },\n    {\n      \"column\": \"ai_usage_hours\",\n      \"properties\": {\n        \"dtype\": \"number\",\n        \"std\": 1.0855573790668513,\n        \"min\": 0.0,\n        \"max\": 6.36,\n        \"num_unique_values\": 260,\n        \"samples\": [\n          1.55,\n          1.81,\n          0.54\n        ],\n        \"semantic_type\": \"\",\n        \"description\": \"\"\n      }\n    },\n    {\n      \"column\": \"cognitive_load\",\n      \"properties\": {\n        \"dtype\": \"number\",\n        \"std\": 1.8688611623360842,\n        \"min\": 1.0,\n        \"max\": 10.0,\n        \"num_unique_values\": 79,\n        \"samples\": [\n          4.9,\n          5.4,\n          1.3\n        ],\n        \"semantic_type\": \"\",\n        \"description\": \"\"\n      }\n    },\n    {\n      \"column\": \"task_success\",\n      \"properties\": {\n        \"dtype\": \"number\",\n        \"std\": 0,\n        \"min\": 0,\n        \"max\": 1,\n        \"num_unique_values\": 2,\n        \"samples\": [\n          0,\n          1\n        ],\n        \"semantic_type\": \"\",\n        \"description\": \"\"\n      }\n    }\n  ]\n}"
            }
          },
          "metadata": {},
          "execution_count": 4
        }
      ]
    },
    {
      "cell_type": "code",
      "source": [
        "x = df.drop('task_success', axis=1)\n",
        "y=df['task_success']"
      ],
      "metadata": {
        "id": "UJa0qtrOJq_n"
      },
      "execution_count": 7,
      "outputs": []
    },
    {
      "cell_type": "code",
      "source": [
        "from sklearn.model_selection import train_test_split\n",
        "x_train, x_test, y_train, y_test = train_test_split(x, y, test_size=0.2, random_state=0)"
      ],
      "metadata": {
        "id": "UrDqCOwRKE15"
      },
      "execution_count": 8,
      "outputs": []
    },
    {
      "cell_type": "code",
      "source": [
        "x_train.shape"
      ],
      "metadata": {
        "colab": {
          "base_uri": "https://localhost:8080/"
        },
        "id": "GkRnl1czKVXn",
        "outputId": "2b88c2a8-64b0-45f5-c581-dd873cab5c87"
      },
      "execution_count": 11,
      "outputs": [
        {
          "output_type": "execute_result",
          "data": {
            "text/plain": [
              "(400, 8)"
            ]
          },
          "metadata": {},
          "execution_count": 11
        }
      ]
    },
    {
      "cell_type": "code",
      "source": [
        "from sklearn.neighbors import KNeighborsClassifier"
      ],
      "metadata": {
        "id": "8LlwX8meKgyK"
      },
      "execution_count": 13,
      "outputs": []
    },
    {
      "cell_type": "code",
      "source": [
        "knn=KNeighborsClassifier()"
      ],
      "metadata": {
        "id": "xvCCQxavKwvb"
      },
      "execution_count": 14,
      "outputs": []
    },
    {
      "cell_type": "code",
      "source": [
        "y_pred=knn.fit(x_train,y_train).predict(x_test)"
      ],
      "metadata": {
        "id": "-uGXp3kpK5oU"
      },
      "execution_count": 16,
      "outputs": []
    },
    {
      "cell_type": "code",
      "source": [
        "accuracy_score(y_test,y_pred)"
      ],
      "metadata": {
        "colab": {
          "base_uri": "https://localhost:8080/",
          "height": 141
        },
        "id": "1S_l8U99LMVG",
        "outputId": "dd1815c0-2bc1-4427-c316-8c3fbfade436"
      },
      "execution_count": 17,
      "outputs": [
        {
          "output_type": "error",
          "ename": "NameError",
          "evalue": "name 'accuracy_score' is not defined",
          "traceback": [
            "\u001b[0;31m---------------------------------------------------------------------------\u001b[0m",
            "\u001b[0;31mNameError\u001b[0m                                 Traceback (most recent call last)",
            "\u001b[0;32m<ipython-input-17-772673080>\u001b[0m in \u001b[0;36m<cell line: 0>\u001b[0;34m()\u001b[0m\n\u001b[0;32m----> 1\u001b[0;31m \u001b[0maccuracy_score\u001b[0m\u001b[0;34m(\u001b[0m\u001b[0my_test\u001b[0m\u001b[0;34m,\u001b[0m\u001b[0my_pred\u001b[0m\u001b[0;34m)\u001b[0m\u001b[0;34m\u001b[0m\u001b[0;34m\u001b[0m\u001b[0m\n\u001b[0m",
            "\u001b[0;31mNameError\u001b[0m: name 'accuracy_score' is not defined"
          ]
        }
      ]
    },
    {
      "cell_type": "code",
      "metadata": {
        "colab": {
          "base_uri": "https://localhost:8080/"
        },
        "id": "260e21d7",
        "outputId": "910c6df7-e70e-46d4-f520-4f76deead798"
      },
      "source": [
        "from sklearn.metrics import accuracy_score\n",
        "accuracy_score(y_test,y_pred)"
      ],
      "execution_count": 18,
      "outputs": [
        {
          "output_type": "execute_result",
          "data": {
            "text/plain": [
              "0.92"
            ]
          },
          "metadata": {},
          "execution_count": 18
        }
      ]
    },
    {
      "cell_type": "markdown",
      "source": [
        "# PCA"
      ],
      "metadata": {
        "id": "nJCMUgagLcFa"
      }
    },
    {
      "cell_type": "code",
      "source": [
        "from sklearn.decomposition import PCA\n",
        "pca=PCA(n_components=3)"
      ],
      "metadata": {
        "id": "_dJfsYGnLeLb"
      },
      "execution_count": 19,
      "outputs": []
    },
    {
      "cell_type": "code",
      "source": [
        "x_train_trf=pca.fit_transform(x_train)\n",
        "x_test_trf=pca.transform(x_test)"
      ],
      "metadata": {
        "id": "Mw-Fp86sLrxE"
      },
      "execution_count": 20,
      "outputs": []
    },
    {
      "cell_type": "code",
      "source": [
        "x_train_trf.shape"
      ],
      "metadata": {
        "colab": {
          "base_uri": "https://localhost:8080/"
        },
        "id": "0ckhfHJ3LyDa",
        "outputId": "0853d5b4-0f54-45bf-e5f9-017e9231d6c4"
      },
      "execution_count": 21,
      "outputs": [
        {
          "output_type": "execute_result",
          "data": {
            "text/plain": [
              "(400, 3)"
            ]
          },
          "metadata": {},
          "execution_count": 21
        }
      ]
    },
    {
      "cell_type": "code",
      "source": [
        "knn=KNeighborsClassifier()"
      ],
      "metadata": {
        "id": "bnM1wh4wL-in"
      },
      "execution_count": 22,
      "outputs": []
    },
    {
      "cell_type": "code",
      "source": [
        "knn.fit(x_train_trf,y_train)"
      ],
      "metadata": {
        "colab": {
          "base_uri": "https://localhost:8080/",
          "height": 80
        },
        "id": "NacumHDfMA8S",
        "outputId": "16556b83-2812-4bc9-e2d0-87093fefc643"
      },
      "execution_count": 23,
      "outputs": [
        {
          "output_type": "execute_result",
          "data": {
            "text/plain": [
              "KNeighborsClassifier()"
            ],
            "text/html": [
              "<style>#sk-container-id-1 {\n",
              "  /* Definition of color scheme common for light and dark mode */\n",
              "  --sklearn-color-text: #000;\n",
              "  --sklearn-color-text-muted: #666;\n",
              "  --sklearn-color-line: gray;\n",
              "  /* Definition of color scheme for unfitted estimators */\n",
              "  --sklearn-color-unfitted-level-0: #fff5e6;\n",
              "  --sklearn-color-unfitted-level-1: #f6e4d2;\n",
              "  --sklearn-color-unfitted-level-2: #ffe0b3;\n",
              "  --sklearn-color-unfitted-level-3: chocolate;\n",
              "  /* Definition of color scheme for fitted estimators */\n",
              "  --sklearn-color-fitted-level-0: #f0f8ff;\n",
              "  --sklearn-color-fitted-level-1: #d4ebff;\n",
              "  --sklearn-color-fitted-level-2: #b3dbfd;\n",
              "  --sklearn-color-fitted-level-3: cornflowerblue;\n",
              "\n",
              "  /* Specific color for light theme */\n",
              "  --sklearn-color-text-on-default-background: var(--sg-text-color, var(--theme-code-foreground, var(--jp-content-font-color1, black)));\n",
              "  --sklearn-color-background: var(--sg-background-color, var(--theme-background, var(--jp-layout-color0, white)));\n",
              "  --sklearn-color-border-box: var(--sg-text-color, var(--theme-code-foreground, var(--jp-content-font-color1, black)));\n",
              "  --sklearn-color-icon: #696969;\n",
              "\n",
              "  @media (prefers-color-scheme: dark) {\n",
              "    /* Redefinition of color scheme for dark theme */\n",
              "    --sklearn-color-text-on-default-background: var(--sg-text-color, var(--theme-code-foreground, var(--jp-content-font-color1, white)));\n",
              "    --sklearn-color-background: var(--sg-background-color, var(--theme-background, var(--jp-layout-color0, #111)));\n",
              "    --sklearn-color-border-box: var(--sg-text-color, var(--theme-code-foreground, var(--jp-content-font-color1, white)));\n",
              "    --sklearn-color-icon: #878787;\n",
              "  }\n",
              "}\n",
              "\n",
              "#sk-container-id-1 {\n",
              "  color: var(--sklearn-color-text);\n",
              "}\n",
              "\n",
              "#sk-container-id-1 pre {\n",
              "  padding: 0;\n",
              "}\n",
              "\n",
              "#sk-container-id-1 input.sk-hidden--visually {\n",
              "  border: 0;\n",
              "  clip: rect(1px 1px 1px 1px);\n",
              "  clip: rect(1px, 1px, 1px, 1px);\n",
              "  height: 1px;\n",
              "  margin: -1px;\n",
              "  overflow: hidden;\n",
              "  padding: 0;\n",
              "  position: absolute;\n",
              "  width: 1px;\n",
              "}\n",
              "\n",
              "#sk-container-id-1 div.sk-dashed-wrapped {\n",
              "  border: 1px dashed var(--sklearn-color-line);\n",
              "  margin: 0 0.4em 0.5em 0.4em;\n",
              "  box-sizing: border-box;\n",
              "  padding-bottom: 0.4em;\n",
              "  background-color: var(--sklearn-color-background);\n",
              "}\n",
              "\n",
              "#sk-container-id-1 div.sk-container {\n",
              "  /* jupyter's `normalize.less` sets `[hidden] { display: none; }`\n",
              "     but bootstrap.min.css set `[hidden] { display: none !important; }`\n",
              "     so we also need the `!important` here to be able to override the\n",
              "     default hidden behavior on the sphinx rendered scikit-learn.org.\n",
              "     See: https://github.com/scikit-learn/scikit-learn/issues/21755 */\n",
              "  display: inline-block !important;\n",
              "  position: relative;\n",
              "}\n",
              "\n",
              "#sk-container-id-1 div.sk-text-repr-fallback {\n",
              "  display: none;\n",
              "}\n",
              "\n",
              "div.sk-parallel-item,\n",
              "div.sk-serial,\n",
              "div.sk-item {\n",
              "  /* draw centered vertical line to link estimators */\n",
              "  background-image: linear-gradient(var(--sklearn-color-text-on-default-background), var(--sklearn-color-text-on-default-background));\n",
              "  background-size: 2px 100%;\n",
              "  background-repeat: no-repeat;\n",
              "  background-position: center center;\n",
              "}\n",
              "\n",
              "/* Parallel-specific style estimator block */\n",
              "\n",
              "#sk-container-id-1 div.sk-parallel-item::after {\n",
              "  content: \"\";\n",
              "  width: 100%;\n",
              "  border-bottom: 2px solid var(--sklearn-color-text-on-default-background);\n",
              "  flex-grow: 1;\n",
              "}\n",
              "\n",
              "#sk-container-id-1 div.sk-parallel {\n",
              "  display: flex;\n",
              "  align-items: stretch;\n",
              "  justify-content: center;\n",
              "  background-color: var(--sklearn-color-background);\n",
              "  position: relative;\n",
              "}\n",
              "\n",
              "#sk-container-id-1 div.sk-parallel-item {\n",
              "  display: flex;\n",
              "  flex-direction: column;\n",
              "}\n",
              "\n",
              "#sk-container-id-1 div.sk-parallel-item:first-child::after {\n",
              "  align-self: flex-end;\n",
              "  width: 50%;\n",
              "}\n",
              "\n",
              "#sk-container-id-1 div.sk-parallel-item:last-child::after {\n",
              "  align-self: flex-start;\n",
              "  width: 50%;\n",
              "}\n",
              "\n",
              "#sk-container-id-1 div.sk-parallel-item:only-child::after {\n",
              "  width: 0;\n",
              "}\n",
              "\n",
              "/* Serial-specific style estimator block */\n",
              "\n",
              "#sk-container-id-1 div.sk-serial {\n",
              "  display: flex;\n",
              "  flex-direction: column;\n",
              "  align-items: center;\n",
              "  background-color: var(--sklearn-color-background);\n",
              "  padding-right: 1em;\n",
              "  padding-left: 1em;\n",
              "}\n",
              "\n",
              "\n",
              "/* Toggleable style: style used for estimator/Pipeline/ColumnTransformer box that is\n",
              "clickable and can be expanded/collapsed.\n",
              "- Pipeline and ColumnTransformer use this feature and define the default style\n",
              "- Estimators will overwrite some part of the style using the `sk-estimator` class\n",
              "*/\n",
              "\n",
              "/* Pipeline and ColumnTransformer style (default) */\n",
              "\n",
              "#sk-container-id-1 div.sk-toggleable {\n",
              "  /* Default theme specific background. It is overwritten whether we have a\n",
              "  specific estimator or a Pipeline/ColumnTransformer */\n",
              "  background-color: var(--sklearn-color-background);\n",
              "}\n",
              "\n",
              "/* Toggleable label */\n",
              "#sk-container-id-1 label.sk-toggleable__label {\n",
              "  cursor: pointer;\n",
              "  display: flex;\n",
              "  width: 100%;\n",
              "  margin-bottom: 0;\n",
              "  padding: 0.5em;\n",
              "  box-sizing: border-box;\n",
              "  text-align: center;\n",
              "  align-items: start;\n",
              "  justify-content: space-between;\n",
              "  gap: 0.5em;\n",
              "}\n",
              "\n",
              "#sk-container-id-1 label.sk-toggleable__label .caption {\n",
              "  font-size: 0.6rem;\n",
              "  font-weight: lighter;\n",
              "  color: var(--sklearn-color-text-muted);\n",
              "}\n",
              "\n",
              "#sk-container-id-1 label.sk-toggleable__label-arrow:before {\n",
              "  /* Arrow on the left of the label */\n",
              "  content: \"▸\";\n",
              "  float: left;\n",
              "  margin-right: 0.25em;\n",
              "  color: var(--sklearn-color-icon);\n",
              "}\n",
              "\n",
              "#sk-container-id-1 label.sk-toggleable__label-arrow:hover:before {\n",
              "  color: var(--sklearn-color-text);\n",
              "}\n",
              "\n",
              "/* Toggleable content - dropdown */\n",
              "\n",
              "#sk-container-id-1 div.sk-toggleable__content {\n",
              "  max-height: 0;\n",
              "  max-width: 0;\n",
              "  overflow: hidden;\n",
              "  text-align: left;\n",
              "  /* unfitted */\n",
              "  background-color: var(--sklearn-color-unfitted-level-0);\n",
              "}\n",
              "\n",
              "#sk-container-id-1 div.sk-toggleable__content.fitted {\n",
              "  /* fitted */\n",
              "  background-color: var(--sklearn-color-fitted-level-0);\n",
              "}\n",
              "\n",
              "#sk-container-id-1 div.sk-toggleable__content pre {\n",
              "  margin: 0.2em;\n",
              "  border-radius: 0.25em;\n",
              "  color: var(--sklearn-color-text);\n",
              "  /* unfitted */\n",
              "  background-color: var(--sklearn-color-unfitted-level-0);\n",
              "}\n",
              "\n",
              "#sk-container-id-1 div.sk-toggleable__content.fitted pre {\n",
              "  /* unfitted */\n",
              "  background-color: var(--sklearn-color-fitted-level-0);\n",
              "}\n",
              "\n",
              "#sk-container-id-1 input.sk-toggleable__control:checked~div.sk-toggleable__content {\n",
              "  /* Expand drop-down */\n",
              "  max-height: 200px;\n",
              "  max-width: 100%;\n",
              "  overflow: auto;\n",
              "}\n",
              "\n",
              "#sk-container-id-1 input.sk-toggleable__control:checked~label.sk-toggleable__label-arrow:before {\n",
              "  content: \"▾\";\n",
              "}\n",
              "\n",
              "/* Pipeline/ColumnTransformer-specific style */\n",
              "\n",
              "#sk-container-id-1 div.sk-label input.sk-toggleable__control:checked~label.sk-toggleable__label {\n",
              "  color: var(--sklearn-color-text);\n",
              "  background-color: var(--sklearn-color-unfitted-level-2);\n",
              "}\n",
              "\n",
              "#sk-container-id-1 div.sk-label.fitted input.sk-toggleable__control:checked~label.sk-toggleable__label {\n",
              "  background-color: var(--sklearn-color-fitted-level-2);\n",
              "}\n",
              "\n",
              "/* Estimator-specific style */\n",
              "\n",
              "/* Colorize estimator box */\n",
              "#sk-container-id-1 div.sk-estimator input.sk-toggleable__control:checked~label.sk-toggleable__label {\n",
              "  /* unfitted */\n",
              "  background-color: var(--sklearn-color-unfitted-level-2);\n",
              "}\n",
              "\n",
              "#sk-container-id-1 div.sk-estimator.fitted input.sk-toggleable__control:checked~label.sk-toggleable__label {\n",
              "  /* fitted */\n",
              "  background-color: var(--sklearn-color-fitted-level-2);\n",
              "}\n",
              "\n",
              "#sk-container-id-1 div.sk-label label.sk-toggleable__label,\n",
              "#sk-container-id-1 div.sk-label label {\n",
              "  /* The background is the default theme color */\n",
              "  color: var(--sklearn-color-text-on-default-background);\n",
              "}\n",
              "\n",
              "/* On hover, darken the color of the background */\n",
              "#sk-container-id-1 div.sk-label:hover label.sk-toggleable__label {\n",
              "  color: var(--sklearn-color-text);\n",
              "  background-color: var(--sklearn-color-unfitted-level-2);\n",
              "}\n",
              "\n",
              "/* Label box, darken color on hover, fitted */\n",
              "#sk-container-id-1 div.sk-label.fitted:hover label.sk-toggleable__label.fitted {\n",
              "  color: var(--sklearn-color-text);\n",
              "  background-color: var(--sklearn-color-fitted-level-2);\n",
              "}\n",
              "\n",
              "/* Estimator label */\n",
              "\n",
              "#sk-container-id-1 div.sk-label label {\n",
              "  font-family: monospace;\n",
              "  font-weight: bold;\n",
              "  display: inline-block;\n",
              "  line-height: 1.2em;\n",
              "}\n",
              "\n",
              "#sk-container-id-1 div.sk-label-container {\n",
              "  text-align: center;\n",
              "}\n",
              "\n",
              "/* Estimator-specific */\n",
              "#sk-container-id-1 div.sk-estimator {\n",
              "  font-family: monospace;\n",
              "  border: 1px dotted var(--sklearn-color-border-box);\n",
              "  border-radius: 0.25em;\n",
              "  box-sizing: border-box;\n",
              "  margin-bottom: 0.5em;\n",
              "  /* unfitted */\n",
              "  background-color: var(--sklearn-color-unfitted-level-0);\n",
              "}\n",
              "\n",
              "#sk-container-id-1 div.sk-estimator.fitted {\n",
              "  /* fitted */\n",
              "  background-color: var(--sklearn-color-fitted-level-0);\n",
              "}\n",
              "\n",
              "/* on hover */\n",
              "#sk-container-id-1 div.sk-estimator:hover {\n",
              "  /* unfitted */\n",
              "  background-color: var(--sklearn-color-unfitted-level-2);\n",
              "}\n",
              "\n",
              "#sk-container-id-1 div.sk-estimator.fitted:hover {\n",
              "  /* fitted */\n",
              "  background-color: var(--sklearn-color-fitted-level-2);\n",
              "}\n",
              "\n",
              "/* Specification for estimator info (e.g. \"i\" and \"?\") */\n",
              "\n",
              "/* Common style for \"i\" and \"?\" */\n",
              "\n",
              ".sk-estimator-doc-link,\n",
              "a:link.sk-estimator-doc-link,\n",
              "a:visited.sk-estimator-doc-link {\n",
              "  float: right;\n",
              "  font-size: smaller;\n",
              "  line-height: 1em;\n",
              "  font-family: monospace;\n",
              "  background-color: var(--sklearn-color-background);\n",
              "  border-radius: 1em;\n",
              "  height: 1em;\n",
              "  width: 1em;\n",
              "  text-decoration: none !important;\n",
              "  margin-left: 0.5em;\n",
              "  text-align: center;\n",
              "  /* unfitted */\n",
              "  border: var(--sklearn-color-unfitted-level-1) 1pt solid;\n",
              "  color: var(--sklearn-color-unfitted-level-1);\n",
              "}\n",
              "\n",
              ".sk-estimator-doc-link.fitted,\n",
              "a:link.sk-estimator-doc-link.fitted,\n",
              "a:visited.sk-estimator-doc-link.fitted {\n",
              "  /* fitted */\n",
              "  border: var(--sklearn-color-fitted-level-1) 1pt solid;\n",
              "  color: var(--sklearn-color-fitted-level-1);\n",
              "}\n",
              "\n",
              "/* On hover */\n",
              "div.sk-estimator:hover .sk-estimator-doc-link:hover,\n",
              ".sk-estimator-doc-link:hover,\n",
              "div.sk-label-container:hover .sk-estimator-doc-link:hover,\n",
              ".sk-estimator-doc-link:hover {\n",
              "  /* unfitted */\n",
              "  background-color: var(--sklearn-color-unfitted-level-3);\n",
              "  color: var(--sklearn-color-background);\n",
              "  text-decoration: none;\n",
              "}\n",
              "\n",
              "div.sk-estimator.fitted:hover .sk-estimator-doc-link.fitted:hover,\n",
              ".sk-estimator-doc-link.fitted:hover,\n",
              "div.sk-label-container:hover .sk-estimator-doc-link.fitted:hover,\n",
              ".sk-estimator-doc-link.fitted:hover {\n",
              "  /* fitted */\n",
              "  background-color: var(--sklearn-color-fitted-level-3);\n",
              "  color: var(--sklearn-color-background);\n",
              "  text-decoration: none;\n",
              "}\n",
              "\n",
              "/* Span, style for the box shown on hovering the info icon */\n",
              ".sk-estimator-doc-link span {\n",
              "  display: none;\n",
              "  z-index: 9999;\n",
              "  position: relative;\n",
              "  font-weight: normal;\n",
              "  right: .2ex;\n",
              "  padding: .5ex;\n",
              "  margin: .5ex;\n",
              "  width: min-content;\n",
              "  min-width: 20ex;\n",
              "  max-width: 50ex;\n",
              "  color: var(--sklearn-color-text);\n",
              "  box-shadow: 2pt 2pt 4pt #999;\n",
              "  /* unfitted */\n",
              "  background: var(--sklearn-color-unfitted-level-0);\n",
              "  border: .5pt solid var(--sklearn-color-unfitted-level-3);\n",
              "}\n",
              "\n",
              ".sk-estimator-doc-link.fitted span {\n",
              "  /* fitted */\n",
              "  background: var(--sklearn-color-fitted-level-0);\n",
              "  border: var(--sklearn-color-fitted-level-3);\n",
              "}\n",
              "\n",
              ".sk-estimator-doc-link:hover span {\n",
              "  display: block;\n",
              "}\n",
              "\n",
              "/* \"?\"-specific style due to the `<a>` HTML tag */\n",
              "\n",
              "#sk-container-id-1 a.estimator_doc_link {\n",
              "  float: right;\n",
              "  font-size: 1rem;\n",
              "  line-height: 1em;\n",
              "  font-family: monospace;\n",
              "  background-color: var(--sklearn-color-background);\n",
              "  border-radius: 1rem;\n",
              "  height: 1rem;\n",
              "  width: 1rem;\n",
              "  text-decoration: none;\n",
              "  /* unfitted */\n",
              "  color: var(--sklearn-color-unfitted-level-1);\n",
              "  border: var(--sklearn-color-unfitted-level-1) 1pt solid;\n",
              "}\n",
              "\n",
              "#sk-container-id-1 a.estimator_doc_link.fitted {\n",
              "  /* fitted */\n",
              "  border: var(--sklearn-color-fitted-level-1) 1pt solid;\n",
              "  color: var(--sklearn-color-fitted-level-1);\n",
              "}\n",
              "\n",
              "/* On hover */\n",
              "#sk-container-id-1 a.estimator_doc_link:hover {\n",
              "  /* unfitted */\n",
              "  background-color: var(--sklearn-color-unfitted-level-3);\n",
              "  color: var(--sklearn-color-background);\n",
              "  text-decoration: none;\n",
              "}\n",
              "\n",
              "#sk-container-id-1 a.estimator_doc_link.fitted:hover {\n",
              "  /* fitted */\n",
              "  background-color: var(--sklearn-color-fitted-level-3);\n",
              "}\n",
              "</style><div id=\"sk-container-id-1\" class=\"sk-top-container\"><div class=\"sk-text-repr-fallback\"><pre>KNeighborsClassifier()</pre><b>In a Jupyter environment, please rerun this cell to show the HTML representation or trust the notebook. <br />On GitHub, the HTML representation is unable to render, please try loading this page with nbviewer.org.</b></div><div class=\"sk-container\" hidden><div class=\"sk-item\"><div class=\"sk-estimator fitted sk-toggleable\"><input class=\"sk-toggleable__control sk-hidden--visually\" id=\"sk-estimator-id-1\" type=\"checkbox\" checked><label for=\"sk-estimator-id-1\" class=\"sk-toggleable__label fitted sk-toggleable__label-arrow\"><div><div>KNeighborsClassifier</div></div><div><a class=\"sk-estimator-doc-link fitted\" rel=\"noreferrer\" target=\"_blank\" href=\"https://scikit-learn.org/1.6/modules/generated/sklearn.neighbors.KNeighborsClassifier.html\">?<span>Documentation for KNeighborsClassifier</span></a><span class=\"sk-estimator-doc-link fitted\">i<span>Fitted</span></span></div></label><div class=\"sk-toggleable__content fitted\"><pre>KNeighborsClassifier()</pre></div> </div></div></div></div>"
            ]
          },
          "metadata": {},
          "execution_count": 23
        }
      ]
    },
    {
      "cell_type": "code",
      "source": [
        "y_pred=knn.predict(x_test_trf)"
      ],
      "metadata": {
        "id": "E0FdrfeCMJ6J"
      },
      "execution_count": 24,
      "outputs": []
    },
    {
      "cell_type": "code",
      "source": [
        "accuracy_score(y_test,y_pred)"
      ],
      "metadata": {
        "colab": {
          "base_uri": "https://localhost:8080/"
        },
        "id": "VQHgTkTUMPUn",
        "outputId": "869cada0-fa1a-4df4-a030-d22a75045852"
      },
      "execution_count": 25,
      "outputs": [
        {
          "output_type": "execute_result",
          "data": {
            "text/plain": [
              "0.91"
            ]
          },
          "metadata": {},
          "execution_count": 25
        }
      ]
    },
    {
      "cell_type": "markdown",
      "source": [
        "Here we can observe that initially we had 8 parametersa and accuracy of 92 percent but now we only used 3 parameters and obtained 91 percent accuracy"
      ],
      "metadata": {
        "id": "Aby58fARMXDT"
      }
    },
    {
      "cell_type": "code",
      "source": [
        "from sklearn.decomposition import PCA\n",
        "from sklearn.neighbors import KNeighborsClassifier\n",
        "from sklearn.metrics import accuracy_score\n",
        "\n",
        "for i in range(1,9):\n",
        "  pca=PCA(n_components=i)\n",
        "  x_train_trf=pca.fit_transform(x_train)\n",
        "  x_test_trf=pca.transform(x_test)\n",
        "  knn=KNeighborsClassifier() # Instantiate the KNeighborsClassifier\n",
        "  knn.fit(x_train_trf,y_train)\n",
        "  y_pred=knn.predict(x_test_trf)\n",
        "  print(f\"accuracy for {i} is {accuracy_score(y_test,y_pred)}\")"
      ],
      "metadata": {
        "colab": {
          "base_uri": "https://localhost:8080/"
        },
        "id": "baxItvBkMzEZ",
        "outputId": "5960dac5-9668-4a31-b9ec-bb387c4136cc"
      },
      "execution_count": 28,
      "outputs": [
        {
          "output_type": "stream",
          "name": "stdout",
          "text": [
            "accuracy for 1 is 0.89\n",
            "accuracy for 2 is 0.9\n",
            "accuracy for 3 is 0.91\n",
            "accuracy for 4 is 0.9\n",
            "accuracy for 5 is 0.91\n",
            "accuracy for 6 is 0.91\n",
            "accuracy for 7 is 0.91\n",
            "accuracy for 8 is 0.92\n"
          ]
        }
      ]
    },
    {
      "cell_type": "code",
      "metadata": {
        "colab": {
          "base_uri": "https://localhost:8080/",
          "height": 542
        },
        "id": "c05515b0",
        "outputId": "42899d31-93ab-4bb2-87c2-e4b8d5616062"
      },
      "source": [
        "import plotly.express as px\n",
        "import pandas as pd\n",
        "from sklearn.decomposition import PCA\n",
        "\n",
        "# Assuming x_train is your original training data\n",
        "# Assuming y_train is the corresponding target variable\n",
        "\n",
        "# Perform PCA with 3 components specifically for plotting\n",
        "pca_plot = PCA(n_components=3)\n",
        "x_train_trf_plot = pca_plot.fit_transform(x_train)\n",
        "\n",
        "\n",
        "# Create a DataFrame for easier plotting with Plotly Express\n",
        "df_pca = pd.DataFrame(x_train_trf_plot, columns=['PC1', 'PC2', 'PC3'])\n",
        "df_pca['target'] = y_train.values # Add the target variable\n",
        "\n",
        "fig = px.scatter_3d(df_pca, x='PC1', y='PC2', z='PC3', color='target',\n",
        "                    title='3D PCA of Training Data',\n",
        "                    labels={'PC1': 'Principal Component 1', 'PC2': 'Principal Component 2', 'PC3': 'Principal Component 3', 'target': 'Task Success'})\n",
        "fig.show()"
      ],
      "execution_count": 30,
      "outputs": [
        {
          "output_type": "display_data",
          "data": {
            "text/html": [
              "<html>\n",
              "<head><meta charset=\"utf-8\" /></head>\n",
              "<body>\n",
              "    <div>            <script src=\"https://cdnjs.cloudflare.com/ajax/libs/mathjax/2.7.5/MathJax.js?config=TeX-AMS-MML_SVG\"></script><script type=\"text/javascript\">if (window.MathJax && window.MathJax.Hub && window.MathJax.Hub.Config) {window.MathJax.Hub.Config({SVG: {font: \"STIX-Web\"}});}</script>                <script type=\"text/javascript\">window.PlotlyConfig = {MathJaxConfig: 'local'};</script>\n",
              "        <script charset=\"utf-8\" src=\"https://cdn.plot.ly/plotly-2.35.2.min.js\"></script>                <div id=\"9455f1e0-5d66-4081-9b2a-b2e2268f538a\" class=\"plotly-graph-div\" style=\"height:525px; width:100%;\"></div>            <script type=\"text/javascript\">                                    window.PLOTLYENV=window.PLOTLYENV || {};                                    if (document.getElementById(\"9455f1e0-5d66-4081-9b2a-b2e2268f538a\")) {                    Plotly.newPlot(                        \"9455f1e0-5d66-4081-9b2a-b2e2268f538a\",                        [{\"hovertemplate\":\"Principal Component 1=%{x}\\u003cbr\\u003ePrincipal Component 2=%{y}\\u003cbr\\u003ePrincipal Component 3=%{z}\\u003cbr\\u003eTask Success=%{marker.color}\\u003cextra\\u003e\\u003c\\u002fextra\\u003e\",\"legendgroup\":\"\",\"marker\":{\"color\":[1,0,1,1,1,0,1,0,1,0,1,0,1,0,1,1,0,0,1,0,0,0,0,1,1,1,1,0,1,0,0,1,1,1,0,1,0,0,1,1,1,0,0,0,1,1,1,0,1,1,1,0,1,0,1,1,1,1,0,0,1,1,1,0,0,1,0,1,0,0,0,0,1,1,0,1,0,1,1,0,0,1,1,0,0,1,1,1,1,0,1,1,1,1,0,0,1,0,0,1,0,0,1,1,1,1,0,1,0,1,1,1,1,1,1,1,1,0,1,0,0,1,0,0,1,1,1,1,1,1,0,0,1,1,1,1,1,0,1,0,0,0,1,1,1,1,1,1,1,0,0,1,1,0,1,0,1,0,1,1,1,0,0,1,0,0,1,0,1,1,0,0,0,1,1,1,1,0,0,1,1,1,0,1,0,1,1,1,0,0,0,0,1,1,0,1,1,0,1,0,1,1,0,1,1,0,0,0,0,1,1,0,1,0,0,0,1,1,0,1,0,0,1,1,0,1,1,0,1,0,1,1,1,0,1,0,1,1,1,1,1,1,1,1,0,0,0,1,0,1,0,1,1,1,1,1,1,1,1,1,0,0,1,1,0,1,0,1,0,1,0,1,1,1,1,1,0,1,1,1,0,1,0,1,1,1,0,0,0,0,1,1,1,0,1,1,0,1,1,1,1,1,1,0,0,0,0,1,0,0,0,1,1,0,0,1,1,0,1,1,1,1,1,0,1,1,1,1,1,1,1,0,0,0,1,1,0,1,1,0,1,1,0,1,0,1,1,1,0,0,1,0,1,1,1,1,0,0,1,1,0,1,0,0,1,1,1,0,1,1,0,1,0,1,1,1,1,1,0,1,0,1,0,0,0,1,1,0,0,0,0,1,0,1,1,1,1,0,1,1],\"coloraxis\":\"coloraxis\",\"symbol\":\"circle\"},\"mode\":\"markers\",\"name\":\"\",\"scene\":\"scene\",\"showlegend\":false,\"x\":[8.962592416554855,-52.060021517921484,136.05322292672093,136.01415333735116,136.03112842683635,-258.00577007252116,136.10671314327345,-356.01924522747504,136.00853611157282,-103.99775724877031,136.01865359027698,136.05180131702076,-25.028431288622755,-54.9821887635577,113.95853860676124,-89.98647228944463,-28.005666967926345,136.13093747889985,135.98111804753302,-97.999025183779,-227.99396386167874,-347.04680467028595,-197.98843102544754,-64.01862708769238,136.0414857701474,136.00247195698336,136.00659702421825,-246.00730754850105,136.03501288349463,-178.03356202249643,-306.0199725981418,132.99031360517205,131.99161834731495,136.01331436909885,136.05577053345138,44.97766224929876,-46.00574167346906,-148.0211529114613,136.0275194136571,118.9920301887044,99.95146662514088,-41.010252423440534,-423.05621581332184,-276.0069836036947,136.04194873096316,-43.00526450697333,105.02582775810384,-189.02246572898457,-66.996623917291,-34.989272948036046,136.05035158157995,-17.028018194073468,136.0693265219798,-169.9938210780527,136.07748331167346,15.974801690408299,14.995499063620287,136.05643716087144,-413.0452148629973,-338.0020542846089,45.9927187379306,136.0126257494324,135.95315398374356,-110.01625318901864,30.06362260172523,86.98816975975802,-104.04978085976381,135.98673893184292,-212.0551804548236,-458.04560231300877,-67.04868071282334,-188.01270676543123,136.14455016054984,136.01534712964332,-82.02878146816914,74.99121552339551,62.984729342959724,-49.02040846099402,136.08327850703387,-224.01302354493123,0.9887386099281343,136.0462500447481,136.0303149541822,-134.0111267012079,-220.03682211358156,-49.99996703336706,136.0258166250929,-2.9552783395121196,29.99522682554243,96.01422883727747,136.0277187412799,10.994650552676376,-13.001944586652769,136.00212395190823,-181.00135949203917,136.02271058868865,-25.02952183962708,-80.0001947488368,-141.04906135139117,93.984034972968,136.07115737140606,-192.01867362132288,135.98891258923032,136.062176619161,136.08175097256816,70.9992096679652,-99.99644936998993,-6.988723645202185,-80.01124303028365,-48.9730933595506,136.03254286338932,65.02968958035564,-93.97091197124882,69.9729144050163,95.97767160432585,92.00351867376145,50.02358435880291,-346.03530511604964,47.00866235508971,-174.03055191610514,-52.000247764301776,119.97975469683075,-132.03421990137963,-57.01865273355611,136.0078247588579,-16.95868188684267,-16.98165783795747,-49.993080783046366,34.973867508192086,-146.01585821393093,-100.02406868197431,136.03516551878926,29.99049640722319,61.99863273691204,136.0065001132645,26.034273389523264,136.06350958463503,-79.01707480498271,-71.00872656247418,-123.03798602516025,-192.00096080944138,-212.0006475512559,102.01523337169277,136.10858688222407,45.0261570625554,136.0092448646829,102.99140214684343,65.99680432010854,109.02361848256311,-236.0304878372642,129.03695262113712,136.05551650319552,136.03418837402086,-383.03400154804984,39.03912545674973,-52.00144506134416,102.95394843623961,-202.0290108933222,-83.0073690627218,-78.99885527795965,136.06952344535893,-206.03892477294863,134.98960597350782,-68.02916001743642,136.06021936701524,-175.0481569407578,13.032013614573884,-3.9822009886678984,114.01018820317626,136.04970560571843,-6.0467059960362235,136.07134372214836,-319.0256386305846,107.00105368764486,133.99623079163524,136.03197847153825,24.04217756071563,66.99124063884727,-238.98982027471138,136.06037642084988,135.9991428307273,135.968232699946,-245.03115045968096,-29.007181710225325,-316.9951590405127,136.06532991094906,136.04777166236846,135.98814957785356,-111.01710117389547,-113.00088582066365,-249.0339755062494,-10.036065634992383,27.996896683808757,136.02665854595267,67.97066926004419,136.03540798157707,136.0137568981906,-129.0557120272618,1.965106169680496,-304.04737036449325,136.03345990605607,-33.996375705403636,-392.02316816608266,135.99505257307277,136.00305393111495,136.09830745559083,-134.01584424343366,135.97786878773348,45.98141055172363,29.960248639436486,136.03208058706804,-315.05607320609585,129.9786842799228,-113.01745642413454,-142.0445490413668,-86.98976197007852,95.94645155020811,136.03810455915703,-274.98824990787637,122.003200156947,-178.00527314045735,58.999597744550385,17.9409196305092,129.9782073655427,-264.052476440836,136.0335144240393,133.98265142161387,-209.02232786375424,136.02124128778865,136.06417960954235,135.94572736705953,49.98792560198552,97.99845310926725,136.06903196698005,136.08483966085447,136.1221837943296,68.00492189514404,46.9516888599876,14.938294336377453,-69.97739683729782,136.04456460429464,-22.98824670935653,49.98581471719848,53.0240190626958,136.0583114594586,-204.02800308713188,-186.98024712932613,8.989562480286168,-106.04143355391142,82.00407699735007,-59.99351160888176,95.98879291175734,135.99556926914505,136.05102950405916,35.003029281090846,49.99502204298159,121.99377607007028,14.004028276427675,136.05381223543833,105.00776779500762,136.138786891165,136.0344087706307,136.01278141198458,136.0452444830401,-177.0607103774587,106.00163152281806,-142.0123244522013,83.97092918205834,-359.0371467418071,3.0255020794500638,-220.0453927619774,47.98017487087981,72.95739294046206,135.96446602911504,136.00155512965495,88.01821912817314,-185.01461372680131,14.966041355264792,-33.025560826420644,9.99727862870077,-136.02674512771148,29.957193210661103,-18.04632480625702,136.01862166740108,8.960128832187365,64.03848360253659,-282.0373349216104,-345.0194859719096,-60.03286369047004,-111.01760348568416,44.002102180631596,123.02004442795175,118.01391459985649,136.07345864237737,135.97593884831105,-10.014921783624345,-162.02363543578753,129.03360641700846,-2.035031439033503,136.03762948914408,136.00898118865103,-8.977896081687447,126.00343910509451,-94.03113267842866,-168.03494400321676,-336.06718290668397,-186.98582715966978,135.97856865298837,-117.04920047005038,-122.01566461405952,-334.03287128993645,136.04290275942543,136.05132221724665,-73.99921033787899,-82.02207633681417,136.0345474880001,136.03555187756677,-161.04981105422803,136.0362264393305,73.00444269820565,-52.033168804620914,-46.99521769719598,136.05863468025058,-95.99088826698829,136.03012550607508,33.052100680644685,38.98514140843747,135.98982603544476,136.04194092982272,136.02310554453373,86.95141073276903,-133.04083902123642,-179.05886769053228,-24.058289580805308,135.9628807206737,136.0991727142536,-205.05683698194912,58.952299522882356,16.004731478014946,-71.02114461768838,135.98919066568163,31.996818620887552,-155.02055410537332,136.02182626418283,-178.002537654199,136.06764341314425,136.1067675002144,29.99059235078613,-83.97067063259112,136.0325063444521,-13.007196767053017,-164.0436797381609,89.00275396606224,136.00671061045267,73.0168093893605,32.01923603695167,-231.0285398426285,-300.01258729837286,124.97505993232761,136.08256622406276,8.011124251365118,136.0095259361985,-68.99022573183129,-278.06294017242146,17.995195193586483,4.041327598393593,135.9921302739943,9.000288975265278,103.03002409319635,-43.998662007946564,-249.02612203549322,44.97307461359844,-138.01018959097246,-32.018620331332784,124.0291323385465,-77.98380322105606,74.02914150539488,20.98466961290444,-18.05468728377747,47.0357755678329,-182.03017514054653,136.05900549668098,-315.0492639952324,-28.048041781912502,-225.03414233174297,109.0379054642604,59.00190532286928,-67.96930663790636,106.03179653705325,-95.97281304941504,136.0591040927082,103.02858461793545,-98.04144718238791,98.02234604723918,136.0606220622222,136.08690081674177,24.99037140206559,-161.04839467491553,136.0397444089852,2.991763934418259],\"y\":[-4.316154501933379,-1.526483973817007,-1.4417390180171528,-0.21544354113920544,-3.069139030865922,4.841164833243459,-0.8225775722170766,3.2540117274447646,-0.3856305844541224,0.2266612855664646,1.318390931929489,6.494197934990323,-1.7849693256474017,3.8082739126398732,-0.4961674191272968,-0.20451181814499902,2.8715636553242785,6.278048341320346,-0.5331750041640168,1.8776991135716967,3.3158091277180244,-1.343724579865421,1.7468826179664272,-3.364288843531645,0.21497775669973263,-2.896824538694323,0.35783912113221417,3.601863765475368,-0.5518376314230262,-0.029801647313128288,-2.1080339367344543,-2.4768426880680487,-0.48268799293857173,-0.14650681160768564,6.052344425588323,0.6740493892466621,-2.584620136426361,2.9157065496419907,-0.08293632769886516,-0.37497216496831703,-0.15069925669810752,-3.2414429762881025,-1.9236055044745135,3.299264880201903,-1.2038967126220248,1.8658827617354103,0.9728256120171013,-0.7147420137462037,-1.0463035605916322,-0.7307676400808484,-0.7917247351095957,-0.7456931604475978,-0.8466701719698522,-0.22941466741879551,2.1252557423972838,-2.9551395704369625,1.447380669784124,-1.1668705005737197,-0.5703695335766916,2.7768854866290393,0.40218241193834814,0.47652089416782895,-3.843993221579198,-0.960807449230769,5.507152530485811,-0.830753454051032,-2.71429699229658,-0.12195097117394194,-2.977631146603282,-0.9109836117777373,-0.9388568962984688,1.7480558711538188,3.1382264371968422,-0.7260551880121415,0.6364815588028898,-0.7863474744803128,1.697457305708301,0.9633837253282411,1.732834897540505,-2.6482954022467147,2.7091557496267122,2.9050310208769363,-2.9557346584873163,-1.9270433288191304,-2.572911658307953,1.495200490503457,-1.395498337162321,0.23774824797633487,0.4066319977769619,4.180376435772738,1.1436090319997465,1.5884449719856737,1.8592490709921927,1.2143103998328948,1.0079134617676209,5.690314507157094,-2.1861369333420075,-0.6565229913673547,0.48784156971044745,1.7367965061302861,2.673893142385243,-1.1833552245213346,-4.969928647339904,2.0787956247331514,2.9189426772653375,1.6889868107343955,-0.7287853653895424,0.2485126523291188,1.009051539795546,-3.1061965027686744,1.0978537329662206,1.8303311457560105,-0.6516201799646472,-0.3225801099751173,-4.77340755235142,0.006664556706822866,1.1015611700464374,-2.9021157461529734,-2.738726539389948,-1.677819019428974,-1.4097018440155455,-2.985364385574978,-1.8360144377607197,-0.504689373163981,-0.28518315264593463,0.8909226915566111,-1.0965977372042623,-0.7885440299423699,-1.4269554902276949,0.7847650278104505,-2.2531909847771234,3.685059037509965,-1.2268297294693957,-1.8055022206883893,-0.13276463638042013,-1.6640414504898815,2.0565773206741618,-2.80697318279538,-1.2332337925502943,-3.6088744318892707,2.4861288146537133,0.06803422622542987,-2.802959095888357,3.9637541575561186,0.1968328938037035,-3.770422281228549,-4.010749751813485,1.2874986274243962,3.106703846006088,-0.6938938378527493,3.886158781168199,-0.5896008458688028,-0.8903448632550898,-0.24529052551976954,-1.128753433491091,-0.4061148930303667,-2.9297535778152435,2.7854405601504997,-0.5490025462858722,-0.40769376624668263,1.4643002664066418,-3.223355022814092,2.4341721675078123,-3.71331901490882,3.6747629519162106,-2.0210658571011004,1.8010186160312545,5.498863647269431,-1.9621156565218651,0.4375560168548034,3.2808939925853666,6.175273142655216,5.1374321171669735,-3.719564617413859,-1.0914026865828994,-0.022479341915764173,1.6077817021896403,2.5836503226301346,-2.009363454402333,2.714635883832553,1.128258178017014,-5.928066551043546,3.1509001638999776,0.02511382264804929,1.3837693674086085,2.046701188486047,2.5126264697875444,-3.946263979524283,-2.8740737333629833,0.11348626195092981,-1.340865955149312,-4.140470360100897,-3.1672298103237386,-1.0284151023717376,3.5016078024181287,-3.243178015674889,-0.756627585973803,-0.9567909895399477,0.7223884360989452,2.2007634294444673,-0.6643760192186472,-1.0126363944352437,1.225753058681147,-0.32881744126142076,1.736577531001473,6.113630585515448,-2.5549150511636753,-2.09545266588805,-2.6933800077115753,-1.6093441110682747,0.1017980752203369,-2.104167847980784,-1.728795976200929,-2.5243234211560113,-0.336411772964699,-0.522920382357541,-0.30762920065442967,-3.608480893781182,1.4812669755735137,-2.0253414721313354,0.8358566320302752,3.039363904696572,-1.7536893992039895,0.1257951883637788,0.2678437791549053,-4.644879378310568,-4.571872530551085,4.1790243375518195,-0.43590757538980013,6.4961200785229085,-0.17599570245445784,-2.9915951261209734,-0.5654225466761789,4.35633406356553,3.53030591492054,6.313213710425083,-3.249867367721336,0.010698523096253187,0.7089837794074478,0.13351821625026217,2.547843323770594,-0.12452807022600343,-0.2699618923377199,1.385977403394819,4.763934661717576,0.377186031579019,2.796601027359411,-3.1784014106218645,-4.425757297957865,-1.3704881595163179,3.3244453535258796,0.338499430552079,-0.5913339171116042,-0.5756181069954754,-2.031399775966409,-1.0915412895540757,-0.9050847177746741,-1.0890907669962522,0.7709731771749657,2.2467807967226907,7.040959954784963,3.3327318196180733,0.7417786485881557,0.2400583984810859,-5.09317963126157,-2.6586047387477927,2.5187475148822562,-2.781730391502986,1.4868203118674566,0.6154768345615313,2.6148666518194577,-0.055476969716322766,-1.9036318148498386,-1.3903249642884121,0.11496464464681433,-3.0393531402282647,1.8337723588550183,-2.3576567107498994,-1.5346385150378972,-0.06851294464582303,-4.484900476611461,-3.3254940052906905,-1.3940049088022808,-3.438369476011992,-0.18879927049603207,2.468996112744508,-1.6892181037294431,6.596548138577756,0.09757222229448059,-1.0600460533512095,-0.45002677402999464,-0.15313744370830473,-2.754857867866002,3.199948416327359,0.23162050508808973,0.6035814131090715,-1.4867242876541238,1.2271796658466585,-4.683689025709368,-1.490575911294926,1.1899326128644374,-0.8438237396231242,-1.0529755016138909,2.3151765239486726,1.2933604550466642,1.3174958295653543,1.5080133463902103,-1.219238930211001,-1.5887276416795748,-2.812364196190955,3.80563719166106,0.22211302606089056,-0.3053509263123055,-0.6433340631232001,2.554488332629198,2.353363019597676,1.5006476158512077,-0.5862228845255892,-0.7138947529508185,0.21349424764558356,-2.5870985058107165,1.9771783807842027,0.7407623153610396,-0.03414054748593376,-0.3503378731894686,3.169451844027587,1.842137997646509,-2.4682901997929925,0.16053190479886992,1.4356010651729383,-3.2597136493010503,-1.7664025767761329,-3.1140833029369834,0.9889945756460565,-0.6147495628077817,-1.2820546999475733,-1.008317523019546,-5.087810206748177,2.2558402367109065,0.681105828263094,-0.0771630557662969,-2.8621105642221494,-2.9431900647594347,-0.7257165460370583,-0.9987548838795399,-0.9198565570612193,-1.0249356636755251,-0.8070651635287628,4.462863105861018,4.194990401614628,1.7426995385094646,-0.21142939055538806,2.2299591357483575,-1.9400162033606743,1.5460763903078925,-2.560170214663019,-0.056165202283018356,1.6623891827528374,-5.76925552898806,-1.7261271897691088,3.4548655556840653,-0.662303956868528,2.8149776818693018,-2.7693727915944075,-1.3667862102443058,2.6324007042442568,-0.1955976816633107,2.36653207464806,-0.20233953124540238,-1.1235750752672096,-2.95510911550371,-1.0536852025176517,0.13829158932907926,-2.9900601120255557,0.2319041445434905,-0.8977467123943965,-3.1491620035280516,-4.280989940831526,-2.3030141032625746,1.3401428062219747,0.0279233447170808,1.9888652106787132,2.978857700386804,-1.7923805050983652,0.611214007750688,1.5258534098081742,1.3987431887966837,4.393057705191326,3.206923242366189,3.710200296233873,1.2202766971926988,1.1378857649782725,2.153062809434121,1.007319175691272,2.0939682139671536,0.4440996687036949,-2.041956103287711,-2.112455556189894,-1.886809917146862,-1.380877115670914],\"z\":[-2.3306520327849194,-3.954268153000408,2.936616816246343,-2.789028188181873,1.6471483244317442,-0.03112427634694459,5.351525017047863,0.4437124280464573,-0.7311657190923448,1.4595727332134352,-1.651820072858807,-0.010180296287527923,-1.7142220289993928,0.1610765459527892,-4.373585517330777,1.6669875437894361,-1.000091372251218,4.272508022427156,-3.200018567482884,0.7630730923402381,1.4619772883716393,-0.1867454298185478,2.219449936031264,0.4759649624417762,0.3416290387111356,0.24160548320936504,-1.4248890027789882,-0.30747120514938575,2.1842405630670494,-0.6821250551762248,2.158484201809834,-0.8813702403254917,-2.177695916310925,-0.9121570100208569,0.14519213671070763,-2.7465499103508977,2.025631172581616,-1.241141215350085,1.658311481895366,-1.855995451166047,-5.469089643725313,2.302454823663418,0.9827036968752039,-0.3640929245533484,0.8851848490368098,-1.4346575149100012,0.6981775640524224,-0.5736809318321447,1.7500628108968617,1.5222762865684523,1.9517337725186048,-1.4196945261776575,3.70365792503791,2.6618834949136394,3.6725490095199067,-1.515786583732938,-2.3877393650288097,2.7640199084395416,0.7513927896702408,2.1595803392655144,-1.1829650037234443,-1.390722256128935,-5.096213687009924,-0.009862051387072857,3.0736429862808996,-1.770745934450727,-2.812634478249069,-3.5609520818608136,-1.3177914022166213,1.2619878938477491,-2.984487749567239,-0.5163415812267196,4.437189576333461,0.11362553589966606,-1.1354932335464365,-2.1668359356984226,-2.368359724730807,-2.1077044435699195,4.419290858691687,2.4339806279334892,-3.1900659161326645,0.6284535083503026,0.583667141050628,2.086326294584584,-0.3400506669184369,0.46605484168556255,1.3502501370579725,4.62179086083949,-1.2191651571907307,-2.7480863778047775,0.20967209527706432,-1.6555534333986428,-0.5868728267495849,-2.868931031024231,2.2330059371138757,-2.0476641944049057,-0.5850146659016393,1.6722307572070234,-3.61960926761226,-3.050051656799324,3.3908686132185784,1.186472737099098,0.9652346805859964,2.2948645407739585,2.222470491732315,-0.2721413203527596,1.9021072244335384,1.338707012096956,-2.0439947012172848,4.75241228459089,-0.21623190274511717,1.1138073914199835,4.2272194160796746,-4.680820196975133,-1.4812720622152378,-0.2873432492580581,0.36648464815265647,0.6661201749581019,1.3359471757239434,-0.31272040488532893,1.5742513391994344,-0.4380256449852893,-1.0135228007509272,0.13795537613595354,-0.9307812886486186,4.444193592838894,2.3108588755844703,2.5000426072720314,-1.6079332569946982,-1.5625941668003704,-0.09858401426661656,-0.3486770553602081,-0.27850559527975194,0.4741061757982501,-1.1392821409334537,4.080580264369171,1.3150659348607834,1.174233792770426,0.9191804192223237,1.111814429185513,0.3997745191584049,1.8935082106609327,1.5672492406891037,2.7403533013181134,3.009641813861065,-1.0613949222840298,1.1447229832354153,-1.5487281091935483,-0.805953722279013,-1.0257246151146397,0.2592782760444339,2.127370488716211,1.6916556252749702,-0.03781693012841569,4.042533143017398,1.4661259987624158,-3.1871576564296626,-1.8441656219707114,0.6514155146728121,1.6804099153673178,2.8194419156672357,0.14929156194914173,-3.6367961869317327,-0.1113421301410713,-0.17260706516099722,-0.9191341049392456,2.6344645122774315,-1.2048409002326135,1.1212064942923314,1.9210244066588404,-4.572778664523842,-0.3047024433790939,-1.161401659270252,0.8814502844165564,-2.208310488227248,1.203548998297042,3.657885249892148,-3.6918289658866836,5.392096364319532,0.9458073475555444,-2.749921650038063,-0.707430351497478,-1.8027558946587157,-0.5141147808756852,2.7938479047264533,-0.4041500804173823,1.844712824650573,-1.1745416453876112,1.1319955775664658,1.6939620159110544,1.0718364145464454,-0.8203588931956582,1.433769702138235,1.7124208769833615,-5.539369733012947,2.04279377927139,0.2333366937020802,-2.8215099096909135,-3.4405124123568873,-1.5326255029462243,1.5866421547729201,0.5943697393945742,0.8357760103638384,-2.0033264529162684,-2.190815100212058,2.876047032398863,1.2791510926086835,-3.2856322418505766,0.6408312084862282,-2.83389951178028,0.13426776502221593,-0.4899752189696607,-2.466778157521853,0.9938274450557538,-2.1504102969091745,2.485082286976703,-5.16338255597181,3.1529589179199373,2.8059219973115908,0.39798293175078336,1.193458109762107,-1.8120335993965215,-4.844358407870029,-3.224663982075244,-1.835268616439398,1.554649635634194,-0.03948636777752368,-1.2331018414949748,1.2227474197962114,0.14206131867488425,-6.140481069992545,-0.20769738178813646,-0.6681882153727419,0.8096472796650402,0.6015903520310806,3.8886704108091115,2.2894043756004687,-4.800095479916226,-5.965657093326193,2.608803613987745,1.9171470819449934,0.7582361267925707,-2.2696038229258564,0.34251577394757704,-0.6134736738084825,-0.5895154496433217,2.324458413450972,0.7188984929033946,-0.8458271429143791,0.13137236378247064,-0.6485436549934989,-2.6937154555006906,-1.9334375688646535,1.4950831131150877,0.8238627245983523,0.3574469625239487,-1.445895594963922,0.10740714251593153,1.2817116508966395,-1.0022197627929763,2.051846521643116,-1.8086429211932,-1.0156383671162288,0.6328570071686199,-0.5967674270460432,-0.46925165976033667,-0.6171732375970567,-2.302219521700577,-1.1517777772528823,2.3117652983426398,-2.7199168796222315,-1.75793943708249,-3.1335760763832328,-3.7275893745788453,-1.648020186604149,2.9706029802549123,-0.48376201864341106,-2.224414757862137,-1.690572351484539,-0.7397547984361508,1.9833998171267415,-1.822231371950543,-2.1726723085955504,0.788335321495129,-3.3374163835523616,2.636182971073633,0.3753100592573968,-0.5370666973520042,-2.2093721665665944,-0.11897260900742257,0.11253064407528512,0.8690207195457674,2.372503161959171,3.0290447179202236,-3.7779207658179033,-1.0013548837326203,0.7142575996872865,1.402331800077562,-1.7370430112702822,2.0353160505899357,-1.0190026077829109,2.3262494921724963,0.22916599536222915,-2.821625265015591,-2.8217442497832916,-2.100714741611174,3.2256193612018205,-3.846648677378602,-2.960700041821422,1.8473530045523356,-1.559427462950181,0.3123256347543353,0.3874189240885846,1.7510631883043488,-2.022348675001063,-0.34238040129010705,-0.7020207196076209,-1.4852475495737625,2.49596803865235,-0.878683770127467,-0.9861334093448126,0.029721869782679988,3.4689289235543157,2.776316897691261,0.6680116042623152,2.7016438119192294,-2.7158991482133192,-0.9840989414557291,1.763582106423657,-0.6907170468062918,-3.6349717898922878,-0.5183062622426031,-2.1025812012078955,-5.67682303700967,-5.367072498607102,5.597657150104506,-2.0580859561685365,-2.218484807221416,-1.22630869492598,-1.0413131114846539,-2.3711715709675456,0.9868663385455958,1.3170193400583874,1.01682630628486,2.8033252762710426,4.762809744884997,7.324480164744524,-0.7721335785079975,1.7121633628572557,-1.0401678722539949,-1.4572420144163873,-2.085520168564681,-1.8741751343376827,-0.5509954997710256,0.7756484682581124,3.431566114441556,-0.041852221262822065,2.184692353930802,-1.5297853057914106,6.358977732138733,-0.2904744956129879,0.2717376091935446,-0.10194924253019577,-0.4685011316246599,0.7262024191341309,2.376976946260118,-2.8819618639019007,-1.1833628352660515,2.279750127887354,1.4961032526344056,1.788690599997981,-1.741164399370131,-0.4505141044696286,-0.5472876718186381,1.1425401315842076,2.9055730021974533,4.208665287702896,0.058310840145705756,-2.9047431406509476,2.0875701186642064,-0.5455143814437617,1.4226796380875284,-2.934869756166134,-2.9339797736515587,-0.7934882281016729,1.2228678381723972,-1.719823684436783,2.680992519547302,0.04134257855346468,1.8465388520743944,2.606148782858481,0.5201848271726919,-3.4493259570347936,0.8117402047438675,3.2378478378596665,2.750607019932504,-0.8881341167380536,-1.344075276484712,2.9081948753178413,-0.16376444425281877],\"type\":\"scatter3d\"}],                        {\"template\":{\"data\":{\"histogram2dcontour\":[{\"type\":\"histogram2dcontour\",\"colorbar\":{\"outlinewidth\":0,\"ticks\":\"\"},\"colorscale\":[[0.0,\"#0d0887\"],[0.1111111111111111,\"#46039f\"],[0.2222222222222222,\"#7201a8\"],[0.3333333333333333,\"#9c179e\"],[0.4444444444444444,\"#bd3786\"],[0.5555555555555556,\"#d8576b\"],[0.6666666666666666,\"#ed7953\"],[0.7777777777777778,\"#fb9f3a\"],[0.8888888888888888,\"#fdca26\"],[1.0,\"#f0f921\"]]}],\"choropleth\":[{\"type\":\"choropleth\",\"colorbar\":{\"outlinewidth\":0,\"ticks\":\"\"}}],\"histogram2d\":[{\"type\":\"histogram2d\",\"colorbar\":{\"outlinewidth\":0,\"ticks\":\"\"},\"colorscale\":[[0.0,\"#0d0887\"],[0.1111111111111111,\"#46039f\"],[0.2222222222222222,\"#7201a8\"],[0.3333333333333333,\"#9c179e\"],[0.4444444444444444,\"#bd3786\"],[0.5555555555555556,\"#d8576b\"],[0.6666666666666666,\"#ed7953\"],[0.7777777777777778,\"#fb9f3a\"],[0.8888888888888888,\"#fdca26\"],[1.0,\"#f0f921\"]]}],\"heatmap\":[{\"type\":\"heatmap\",\"colorbar\":{\"outlinewidth\":0,\"ticks\":\"\"},\"colorscale\":[[0.0,\"#0d0887\"],[0.1111111111111111,\"#46039f\"],[0.2222222222222222,\"#7201a8\"],[0.3333333333333333,\"#9c179e\"],[0.4444444444444444,\"#bd3786\"],[0.5555555555555556,\"#d8576b\"],[0.6666666666666666,\"#ed7953\"],[0.7777777777777778,\"#fb9f3a\"],[0.8888888888888888,\"#fdca26\"],[1.0,\"#f0f921\"]]}],\"heatmapgl\":[{\"type\":\"heatmapgl\",\"colorbar\":{\"outlinewidth\":0,\"ticks\":\"\"},\"colorscale\":[[0.0,\"#0d0887\"],[0.1111111111111111,\"#46039f\"],[0.2222222222222222,\"#7201a8\"],[0.3333333333333333,\"#9c179e\"],[0.4444444444444444,\"#bd3786\"],[0.5555555555555556,\"#d8576b\"],[0.6666666666666666,\"#ed7953\"],[0.7777777777777778,\"#fb9f3a\"],[0.8888888888888888,\"#fdca26\"],[1.0,\"#f0f921\"]]}],\"contourcarpet\":[{\"type\":\"contourcarpet\",\"colorbar\":{\"outlinewidth\":0,\"ticks\":\"\"}}],\"contour\":[{\"type\":\"contour\",\"colorbar\":{\"outlinewidth\":0,\"ticks\":\"\"},\"colorscale\":[[0.0,\"#0d0887\"],[0.1111111111111111,\"#46039f\"],[0.2222222222222222,\"#7201a8\"],[0.3333333333333333,\"#9c179e\"],[0.4444444444444444,\"#bd3786\"],[0.5555555555555556,\"#d8576b\"],[0.6666666666666666,\"#ed7953\"],[0.7777777777777778,\"#fb9f3a\"],[0.8888888888888888,\"#fdca26\"],[1.0,\"#f0f921\"]]}],\"surface\":[{\"type\":\"surface\",\"colorbar\":{\"outlinewidth\":0,\"ticks\":\"\"},\"colorscale\":[[0.0,\"#0d0887\"],[0.1111111111111111,\"#46039f\"],[0.2222222222222222,\"#7201a8\"],[0.3333333333333333,\"#9c179e\"],[0.4444444444444444,\"#bd3786\"],[0.5555555555555556,\"#d8576b\"],[0.6666666666666666,\"#ed7953\"],[0.7777777777777778,\"#fb9f3a\"],[0.8888888888888888,\"#fdca26\"],[1.0,\"#f0f921\"]]}],\"mesh3d\":[{\"type\":\"mesh3d\",\"colorbar\":{\"outlinewidth\":0,\"ticks\":\"\"}}],\"scatter\":[{\"fillpattern\":{\"fillmode\":\"overlay\",\"size\":10,\"solidity\":0.2},\"type\":\"scatter\"}],\"parcoords\":[{\"type\":\"parcoords\",\"line\":{\"colorbar\":{\"outlinewidth\":0,\"ticks\":\"\"}}}],\"scatterpolargl\":[{\"type\":\"scatterpolargl\",\"marker\":{\"colorbar\":{\"outlinewidth\":0,\"ticks\":\"\"}}}],\"bar\":[{\"error_x\":{\"color\":\"#2a3f5f\"},\"error_y\":{\"color\":\"#2a3f5f\"},\"marker\":{\"line\":{\"color\":\"#E5ECF6\",\"width\":0.5},\"pattern\":{\"fillmode\":\"overlay\",\"size\":10,\"solidity\":0.2}},\"type\":\"bar\"}],\"scattergeo\":[{\"type\":\"scattergeo\",\"marker\":{\"colorbar\":{\"outlinewidth\":0,\"ticks\":\"\"}}}],\"scatterpolar\":[{\"type\":\"scatterpolar\",\"marker\":{\"colorbar\":{\"outlinewidth\":0,\"ticks\":\"\"}}}],\"histogram\":[{\"marker\":{\"pattern\":{\"fillmode\":\"overlay\",\"size\":10,\"solidity\":0.2}},\"type\":\"histogram\"}],\"scattergl\":[{\"type\":\"scattergl\",\"marker\":{\"colorbar\":{\"outlinewidth\":0,\"ticks\":\"\"}}}],\"scatter3d\":[{\"type\":\"scatter3d\",\"line\":{\"colorbar\":{\"outlinewidth\":0,\"ticks\":\"\"}},\"marker\":{\"colorbar\":{\"outlinewidth\":0,\"ticks\":\"\"}}}],\"scattermapbox\":[{\"type\":\"scattermapbox\",\"marker\":{\"colorbar\":{\"outlinewidth\":0,\"ticks\":\"\"}}}],\"scatterternary\":[{\"type\":\"scatterternary\",\"marker\":{\"colorbar\":{\"outlinewidth\":0,\"ticks\":\"\"}}}],\"scattercarpet\":[{\"type\":\"scattercarpet\",\"marker\":{\"colorbar\":{\"outlinewidth\":0,\"ticks\":\"\"}}}],\"carpet\":[{\"aaxis\":{\"endlinecolor\":\"#2a3f5f\",\"gridcolor\":\"white\",\"linecolor\":\"white\",\"minorgridcolor\":\"white\",\"startlinecolor\":\"#2a3f5f\"},\"baxis\":{\"endlinecolor\":\"#2a3f5f\",\"gridcolor\":\"white\",\"linecolor\":\"white\",\"minorgridcolor\":\"white\",\"startlinecolor\":\"#2a3f5f\"},\"type\":\"carpet\"}],\"table\":[{\"cells\":{\"fill\":{\"color\":\"#EBF0F8\"},\"line\":{\"color\":\"white\"}},\"header\":{\"fill\":{\"color\":\"#C8D4E3\"},\"line\":{\"color\":\"white\"}},\"type\":\"table\"}],\"barpolar\":[{\"marker\":{\"line\":{\"color\":\"#E5ECF6\",\"width\":0.5},\"pattern\":{\"fillmode\":\"overlay\",\"size\":10,\"solidity\":0.2}},\"type\":\"barpolar\"}],\"pie\":[{\"automargin\":true,\"type\":\"pie\"}]},\"layout\":{\"autotypenumbers\":\"strict\",\"colorway\":[\"#636efa\",\"#EF553B\",\"#00cc96\",\"#ab63fa\",\"#FFA15A\",\"#19d3f3\",\"#FF6692\",\"#B6E880\",\"#FF97FF\",\"#FECB52\"],\"font\":{\"color\":\"#2a3f5f\"},\"hovermode\":\"closest\",\"hoverlabel\":{\"align\":\"left\"},\"paper_bgcolor\":\"white\",\"plot_bgcolor\":\"#E5ECF6\",\"polar\":{\"bgcolor\":\"#E5ECF6\",\"angularaxis\":{\"gridcolor\":\"white\",\"linecolor\":\"white\",\"ticks\":\"\"},\"radialaxis\":{\"gridcolor\":\"white\",\"linecolor\":\"white\",\"ticks\":\"\"}},\"ternary\":{\"bgcolor\":\"#E5ECF6\",\"aaxis\":{\"gridcolor\":\"white\",\"linecolor\":\"white\",\"ticks\":\"\"},\"baxis\":{\"gridcolor\":\"white\",\"linecolor\":\"white\",\"ticks\":\"\"},\"caxis\":{\"gridcolor\":\"white\",\"linecolor\":\"white\",\"ticks\":\"\"}},\"coloraxis\":{\"colorbar\":{\"outlinewidth\":0,\"ticks\":\"\"}},\"colorscale\":{\"sequential\":[[0.0,\"#0d0887\"],[0.1111111111111111,\"#46039f\"],[0.2222222222222222,\"#7201a8\"],[0.3333333333333333,\"#9c179e\"],[0.4444444444444444,\"#bd3786\"],[0.5555555555555556,\"#d8576b\"],[0.6666666666666666,\"#ed7953\"],[0.7777777777777778,\"#fb9f3a\"],[0.8888888888888888,\"#fdca26\"],[1.0,\"#f0f921\"]],\"sequentialminus\":[[0.0,\"#0d0887\"],[0.1111111111111111,\"#46039f\"],[0.2222222222222222,\"#7201a8\"],[0.3333333333333333,\"#9c179e\"],[0.4444444444444444,\"#bd3786\"],[0.5555555555555556,\"#d8576b\"],[0.6666666666666666,\"#ed7953\"],[0.7777777777777778,\"#fb9f3a\"],[0.8888888888888888,\"#fdca26\"],[1.0,\"#f0f921\"]],\"diverging\":[[0,\"#8e0152\"],[0.1,\"#c51b7d\"],[0.2,\"#de77ae\"],[0.3,\"#f1b6da\"],[0.4,\"#fde0ef\"],[0.5,\"#f7f7f7\"],[0.6,\"#e6f5d0\"],[0.7,\"#b8e186\"],[0.8,\"#7fbc41\"],[0.9,\"#4d9221\"],[1,\"#276419\"]]},\"xaxis\":{\"gridcolor\":\"white\",\"linecolor\":\"white\",\"ticks\":\"\",\"title\":{\"standoff\":15},\"zerolinecolor\":\"white\",\"automargin\":true,\"zerolinewidth\":2},\"yaxis\":{\"gridcolor\":\"white\",\"linecolor\":\"white\",\"ticks\":\"\",\"title\":{\"standoff\":15},\"zerolinecolor\":\"white\",\"automargin\":true,\"zerolinewidth\":2},\"scene\":{\"xaxis\":{\"backgroundcolor\":\"#E5ECF6\",\"gridcolor\":\"white\",\"linecolor\":\"white\",\"showbackground\":true,\"ticks\":\"\",\"zerolinecolor\":\"white\",\"gridwidth\":2},\"yaxis\":{\"backgroundcolor\":\"#E5ECF6\",\"gridcolor\":\"white\",\"linecolor\":\"white\",\"showbackground\":true,\"ticks\":\"\",\"zerolinecolor\":\"white\",\"gridwidth\":2},\"zaxis\":{\"backgroundcolor\":\"#E5ECF6\",\"gridcolor\":\"white\",\"linecolor\":\"white\",\"showbackground\":true,\"ticks\":\"\",\"zerolinecolor\":\"white\",\"gridwidth\":2}},\"shapedefaults\":{\"line\":{\"color\":\"#2a3f5f\"}},\"annotationdefaults\":{\"arrowcolor\":\"#2a3f5f\",\"arrowhead\":0,\"arrowwidth\":1},\"geo\":{\"bgcolor\":\"white\",\"landcolor\":\"#E5ECF6\",\"subunitcolor\":\"white\",\"showland\":true,\"showlakes\":true,\"lakecolor\":\"white\"},\"title\":{\"x\":0.05},\"mapbox\":{\"style\":\"light\"}}},\"scene\":{\"domain\":{\"x\":[0.0,1.0],\"y\":[0.0,1.0]},\"xaxis\":{\"title\":{\"text\":\"Principal Component 1\"}},\"yaxis\":{\"title\":{\"text\":\"Principal Component 2\"}},\"zaxis\":{\"title\":{\"text\":\"Principal Component 3\"}}},\"coloraxis\":{\"colorbar\":{\"title\":{\"text\":\"Task Success\"}},\"colorscale\":[[0.0,\"#0d0887\"],[0.1111111111111111,\"#46039f\"],[0.2222222222222222,\"#7201a8\"],[0.3333333333333333,\"#9c179e\"],[0.4444444444444444,\"#bd3786\"],[0.5555555555555556,\"#d8576b\"],[0.6666666666666666,\"#ed7953\"],[0.7777777777777778,\"#fb9f3a\"],[0.8888888888888888,\"#fdca26\"],[1.0,\"#f0f921\"]]},\"legend\":{\"tracegroupgap\":0},\"title\":{\"text\":\"3D PCA of Training Data\"}},                        {\"responsive\": true}                    ).then(function(){\n",
              "                            \n",
              "var gd = document.getElementById('9455f1e0-5d66-4081-9b2a-b2e2268f538a');\n",
              "var x = new MutationObserver(function (mutations, observer) {{\n",
              "        var display = window.getComputedStyle(gd).display;\n",
              "        if (!display || display === 'none') {{\n",
              "            console.log([gd, 'removed!']);\n",
              "            Plotly.purge(gd);\n",
              "            observer.disconnect();\n",
              "        }}\n",
              "}});\n",
              "\n",
              "// Listen for the removal of the full notebook cells\n",
              "var notebookContainer = gd.closest('#notebook-container');\n",
              "if (notebookContainer) {{\n",
              "    x.observe(notebookContainer, {childList: true});\n",
              "}}\n",
              "\n",
              "// Listen for the clearing of the current output cell\n",
              "var outputEl = gd.closest('.output');\n",
              "if (outputEl) {{\n",
              "    x.observe(outputEl, {childList: true});\n",
              "}}\n",
              "\n",
              "                        })                };                            </script>        </div>\n",
              "</body>\n",
              "</html>"
            ]
          },
          "metadata": {}
        }
      ]
    },
    {
      "cell_type": "code",
      "source": [
        "pca.explained_variance_"
      ],
      "metadata": {
        "colab": {
          "base_uri": "https://localhost:8080/"
        },
        "id": "H6msH1KgO7vn",
        "outputId": "56f19b0c-b6aa-4e70-dc2b-9f5f0a3a2771"
      },
      "execution_count": 31,
      "outputs": [
        {
          "output_type": "execute_result",
          "data": {
            "text/plain": [
              "array([2.04366175e+04, 5.83216054e+00, 5.00934473e+00, 2.75663022e+00,\n",
              "       1.13342669e+00, 9.78587379e-01, 4.69992975e-01, 3.97088271e-01])"
            ]
          },
          "metadata": {},
          "execution_count": 31
        }
      ]
    },
    {
      "cell_type": "code",
      "source": [
        "pca.explained_variance_ratio_"
      ],
      "metadata": {
        "colab": {
          "base_uri": "https://localhost:8080/"
        },
        "id": "bCVEg0tbPPIH",
        "outputId": "a98e8950-4843-49ad-9cc3-56a82cb5b6ca"
      },
      "execution_count": 32,
      "outputs": [
        {
          "output_type": "execute_result",
          "data": {
            "text/plain": [
              "array([9.99189504e-01, 2.85146679e-04, 2.44917471e-04, 1.34777489e-04,\n",
              "       5.54156311e-05, 4.78452091e-05, 2.29789518e-05, 1.94144864e-05])"
            ]
          },
          "metadata": {},
          "execution_count": 32
        }
      ]
    },
    {
      "cell_type": "code",
      "source": [
        "pca.feature_names_in_"
      ],
      "metadata": {
        "colab": {
          "base_uri": "https://localhost:8080/"
        },
        "id": "3rSyhq_4PRP-",
        "outputId": "05024482-f9f8-43c9-d761-534e9eae1132"
      },
      "execution_count": 33,
      "outputs": [
        {
          "output_type": "execute_result",
          "data": {
            "text/plain": [
              "array(['hours_coding', 'coffee_intake_mg', 'distractions', 'sleep_hours',\n",
              "       'commits', 'bugs_reported', 'ai_usage_hours', 'cognitive_load'],\n",
              "      dtype=object)"
            ]
          },
          "metadata": {},
          "execution_count": 33
        }
      ]
    },
    {
      "cell_type": "code",
      "source": [
        "pca.get_feature_names_out"
      ],
      "metadata": {
        "colab": {
          "base_uri": "https://localhost:8080/",
          "height": 186
        },
        "id": "JW7S98__PVBF",
        "outputId": "0b0cda69-ea83-4551-8c2f-7e5b99a55908"
      },
      "execution_count": 34,
      "outputs": [
        {
          "output_type": "execute_result",
          "data": {
            "text/plain": [
              "<bound method ClassNamePrefixFeaturesOutMixin.get_feature_names_out of PCA(n_components=8)>"
            ],
            "text/html": [
              "<div style=\"max-width:800px; border: 1px solid var(--colab-border-color);\"><style>\n",
              "      pre.function-repr-contents {\n",
              "        overflow-x: auto;\n",
              "        padding: 8px 12px;\n",
              "        max-height: 500px;\n",
              "      }\n",
              "\n",
              "      pre.function-repr-contents.function-repr-contents-collapsed {\n",
              "        cursor: pointer;\n",
              "        max-height: 100px;\n",
              "      }\n",
              "    </style>\n",
              "    <pre style=\"white-space: initial; background:\n",
              "         var(--colab-secondary-surface-color); padding: 8px 12px;\n",
              "         border-bottom: 1px solid var(--colab-border-color);\"><b>sklearn.base.ClassNamePrefixFeaturesOutMixin.get_feature_names_out</b><br/>def get_feature_names_out(input_features=None)</pre><pre class=\"function-repr-contents function-repr-contents-collapsed\" style=\"\"><a class=\"filepath\" style=\"display:none\" href=\"#\">/usr/local/lib/python3.11/dist-packages/sklearn/base.py</a>Get output feature names for transformation.\n",
              "\n",
              "The feature names out will prefixed by the lowercased class name. For\n",
              "example, if the transformer outputs 3 features, then the feature names\n",
              "out are: `[&quot;class_name0&quot;, &quot;class_name1&quot;, &quot;class_name2&quot;]`.\n",
              "\n",
              "Parameters\n",
              "----------\n",
              "input_features : array-like of str or None, default=None\n",
              "    Only used to validate feature names with the names seen in `fit`.\n",
              "\n",
              "Returns\n",
              "-------\n",
              "feature_names_out : ndarray of str objects\n",
              "    Transformed feature names.</pre>\n",
              "      <script>\n",
              "      if (google.colab.kernel.accessAllowed && google.colab.files && google.colab.files.view) {\n",
              "        for (const element of document.querySelectorAll('.filepath')) {\n",
              "          element.style.display = 'block'\n",
              "          element.onclick = (event) => {\n",
              "            event.preventDefault();\n",
              "            event.stopPropagation();\n",
              "            google.colab.files.view(element.textContent, 995);\n",
              "          };\n",
              "        }\n",
              "      }\n",
              "      for (const element of document.querySelectorAll('.function-repr-contents')) {\n",
              "        element.onclick = (event) => {\n",
              "          event.preventDefault();\n",
              "          event.stopPropagation();\n",
              "          element.classList.toggle('function-repr-contents-collapsed');\n",
              "        };\n",
              "      }\n",
              "      </script>\n",
              "      </div>"
            ]
          },
          "metadata": {},
          "execution_count": 34
        }
      ]
    },
    {
      "cell_type": "markdown",
      "source": [
        "Finding Optimum number of principle components required"
      ],
      "metadata": {
        "id": "cyED2QshP82V"
      }
    },
    {
      "cell_type": "code",
      "source": [],
      "metadata": {
        "id": "ChkCdtdzQEho"
      },
      "execution_count": null,
      "outputs": []
    },
    {
      "cell_type": "code",
      "source": [
        "import matplotlib.pyplot as plt\n",
        "plt.plot(np.cumsum(pca.explained_variance_ratio_))\n",
        "plt.xlabel('number of components')\n",
        "plt.ylabel('explained variance')"
      ],
      "metadata": {
        "colab": {
          "base_uri": "https://localhost:8080/",
          "height": 466
        },
        "id": "-5SfBj1QPkgd",
        "outputId": "979f7df0-dc13-49c9-cc9d-bee86cb00d8a"
      },
      "execution_count": 37,
      "outputs": [
        {
          "output_type": "execute_result",
          "data": {
            "text/plain": [
              "Text(0, 0.5, 'explained variance')"
            ]
          },
          "metadata": {},
          "execution_count": 37
        },
        {
          "output_type": "display_data",
          "data": {
            "text/plain": [
              "<Figure size 640x480 with 1 Axes>"
            ],
            "image/png": "[encoded data removed]"
          },
          "metadata": {}
        }
      ]
    },
    {
      "cell_type": "markdown",
      "source": [
        "PCA not used when:\n",
        "1. data is circular along all axes so even if we rotate the axis variance will be same\n",
        "2. Data is following a specific trend that will be hidden while taking projections\n",
        "3. data is divides in some parts opposite to axis their projection will interfere."
      ],
      "metadata": {
        "id": "wGh22wWPQFtD"
      }
    }
  ]
}